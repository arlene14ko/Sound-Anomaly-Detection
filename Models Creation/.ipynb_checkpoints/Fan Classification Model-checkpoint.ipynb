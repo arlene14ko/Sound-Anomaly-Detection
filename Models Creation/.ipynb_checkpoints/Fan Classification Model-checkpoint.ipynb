{
 "cells": [
  {
   "cell_type": "markdown",
   "id": "humanitarian-advertiser",
   "metadata": {},
   "source": [
    "# Fan Classification Model"
   ]
  },
  {
   "cell_type": "markdown",
   "id": "efficient-money",
   "metadata": {},
   "source": [
    "A jupyter notebook to create the classification model for the fan machines.\n"
   ]
  },
  {
   "cell_type": "markdown",
   "id": "tired-malaysia",
   "metadata": {},
   "source": [
    "### Getting the dataset"
   ]
  },
  {
   "cell_type": "markdown",
   "id": "proved-socket",
   "metadata": {},
   "source": [
    "First is to import the necessary libraries needed"
   ]
  },
  {
   "cell_type": "code",
   "execution_count": 1,
   "id": "straight-hampshire",
   "metadata": {},
   "outputs": [],
   "source": [
    "import numpy as np\n",
    "import pandas as pd\n",
    "import matplotlib.pyplot as plt\n",
    "from sklearn.model_selection import train_test_split\n",
    "from sklearn.ensemble import RandomForestClassifier\n",
    "import pickle\n",
    "from sklearn.metrics import classification_report\n",
    "from imblearn.over_sampling import SMOTE\n",
    "from matplotlib import pyplot"
   ]
  },
  {
   "cell_type": "markdown",
   "id": "every-brave",
   "metadata": {},
   "source": [
    "Then import the dataset. This dataset was extracted from the sound files."
   ]
  },
  {
   "cell_type": "code",
   "execution_count": 3,
   "id": "prime-feeling",
   "metadata": {},
   "outputs": [],
   "source": [
    "df = pd.read_csv('../Datasets/slider_full_features.csv')"
   ]
  },
  {
   "cell_type": "code",
   "execution_count": 4,
   "id": "prime-clock",
   "metadata": {},
   "outputs": [
    {
     "data": {
      "text/html": [
       "<div>\n",
       "<style scoped>\n",
       "    .dataframe tbody tr th:only-of-type {\n",
       "        vertical-align: middle;\n",
       "    }\n",
       "\n",
       "    .dataframe tbody tr th {\n",
       "        vertical-align: top;\n",
       "    }\n",
       "\n",
       "    .dataframe thead th {\n",
       "        text-align: right;\n",
       "    }\n",
       "</style>\n",
       "<table border=\"1\" class=\"dataframe\">\n",
       "  <thead>\n",
       "    <tr style=\"text-align: right;\">\n",
       "      <th></th>\n",
       "      <th>Unnamed: 0</th>\n",
       "      <th>Type of SNR</th>\n",
       "      <th>Type of Machine</th>\n",
       "      <th>Model Number</th>\n",
       "      <th>Status</th>\n",
       "      <th>File Name</th>\n",
       "      <th>SR</th>\n",
       "      <th>y mean</th>\n",
       "      <th>y max</th>\n",
       "      <th>y min</th>\n",
       "      <th>...</th>\n",
       "      <th>spectral_centroid std</th>\n",
       "      <th>spec_bw std</th>\n",
       "      <th>spec_contrast std</th>\n",
       "      <th>flatness std</th>\n",
       "      <th>rolloff std</th>\n",
       "      <th>poly_0 std</th>\n",
       "      <th>poly_1 std</th>\n",
       "      <th>poly_2 std</th>\n",
       "      <th>tonnetz std</th>\n",
       "      <th>zero_crossing_rate std</th>\n",
       "    </tr>\n",
       "  </thead>\n",
       "  <tbody>\n",
       "    <tr>\n",
       "      <th>0</th>\n",
       "      <td>0</td>\n",
       "      <td>6_dB_slider</td>\n",
       "      <td>slider</td>\n",
       "      <td>id_00</td>\n",
       "      <td>1</td>\n",
       "      <td>00000000.wav</td>\n",
       "      <td>22050</td>\n",
       "      <td>4.348221e-07</td>\n",
       "      <td>0.032791</td>\n",
       "      <td>-0.031915</td>\n",
       "      <td>...</td>\n",
       "      <td>630.107312</td>\n",
       "      <td>340.883619</td>\n",
       "      <td>19.203000</td>\n",
       "      <td>0.001025</td>\n",
       "      <td>1359.409669</td>\n",
       "      <td>0.027608</td>\n",
       "      <td>0.094531</td>\n",
       "      <td>0.120307</td>\n",
       "      <td>0.127336</td>\n",
       "      <td>0.026109</td>\n",
       "    </tr>\n",
       "    <tr>\n",
       "      <th>1</th>\n",
       "      <td>1</td>\n",
       "      <td>6_dB_slider</td>\n",
       "      <td>slider</td>\n",
       "      <td>id_00</td>\n",
       "      <td>1</td>\n",
       "      <td>00000001.wav</td>\n",
       "      <td>22050</td>\n",
       "      <td>-5.097089e-07</td>\n",
       "      <td>0.029326</td>\n",
       "      <td>-0.033344</td>\n",
       "      <td>...</td>\n",
       "      <td>595.729191</td>\n",
       "      <td>370.814820</td>\n",
       "      <td>19.328524</td>\n",
       "      <td>0.000797</td>\n",
       "      <td>1305.772864</td>\n",
       "      <td>0.027164</td>\n",
       "      <td>0.098246</td>\n",
       "      <td>0.127360</td>\n",
       "      <td>0.109052</td>\n",
       "      <td>0.023448</td>\n",
       "    </tr>\n",
       "    <tr>\n",
       "      <th>2</th>\n",
       "      <td>2</td>\n",
       "      <td>6_dB_slider</td>\n",
       "      <td>slider</td>\n",
       "      <td>id_00</td>\n",
       "      <td>1</td>\n",
       "      <td>00000002.wav</td>\n",
       "      <td>22050</td>\n",
       "      <td>8.667761e-07</td>\n",
       "      <td>0.030970</td>\n",
       "      <td>-0.031253</td>\n",
       "      <td>...</td>\n",
       "      <td>589.890656</td>\n",
       "      <td>363.171827</td>\n",
       "      <td>19.304648</td>\n",
       "      <td>0.000702</td>\n",
       "      <td>1285.948405</td>\n",
       "      <td>0.026710</td>\n",
       "      <td>0.097347</td>\n",
       "      <td>0.126502</td>\n",
       "      <td>0.113372</td>\n",
       "      <td>0.022279</td>\n",
       "    </tr>\n",
       "    <tr>\n",
       "      <th>3</th>\n",
       "      <td>3</td>\n",
       "      <td>6_dB_slider</td>\n",
       "      <td>slider</td>\n",
       "      <td>id_00</td>\n",
       "      <td>1</td>\n",
       "      <td>00000003.wav</td>\n",
       "      <td>22050</td>\n",
       "      <td>-2.379897e-07</td>\n",
       "      <td>0.036832</td>\n",
       "      <td>-0.033811</td>\n",
       "      <td>...</td>\n",
       "      <td>541.191714</td>\n",
       "      <td>320.365960</td>\n",
       "      <td>19.480536</td>\n",
       "      <td>0.000405</td>\n",
       "      <td>1155.548194</td>\n",
       "      <td>0.026735</td>\n",
       "      <td>0.098209</td>\n",
       "      <td>0.127337</td>\n",
       "      <td>0.110830</td>\n",
       "      <td>0.021454</td>\n",
       "    </tr>\n",
       "    <tr>\n",
       "      <th>4</th>\n",
       "      <td>4</td>\n",
       "      <td>6_dB_slider</td>\n",
       "      <td>slider</td>\n",
       "      <td>id_00</td>\n",
       "      <td>1</td>\n",
       "      <td>00000004.wav</td>\n",
       "      <td>22050</td>\n",
       "      <td>-1.409447e-06</td>\n",
       "      <td>0.031055</td>\n",
       "      <td>-0.030601</td>\n",
       "      <td>...</td>\n",
       "      <td>475.033670</td>\n",
       "      <td>209.546520</td>\n",
       "      <td>19.313479</td>\n",
       "      <td>0.000935</td>\n",
       "      <td>958.610263</td>\n",
       "      <td>0.026646</td>\n",
       "      <td>0.095767</td>\n",
       "      <td>0.120880</td>\n",
       "      <td>0.122958</td>\n",
       "      <td>0.020523</td>\n",
       "    </tr>\n",
       "    <tr>\n",
       "      <th>...</th>\n",
       "      <td>...</td>\n",
       "      <td>...</td>\n",
       "      <td>...</td>\n",
       "      <td>...</td>\n",
       "      <td>...</td>\n",
       "      <td>...</td>\n",
       "      <td>...</td>\n",
       "      <td>...</td>\n",
       "      <td>...</td>\n",
       "      <td>...</td>\n",
       "      <td>...</td>\n",
       "      <td>...</td>\n",
       "      <td>...</td>\n",
       "      <td>...</td>\n",
       "      <td>...</td>\n",
       "      <td>...</td>\n",
       "      <td>...</td>\n",
       "      <td>...</td>\n",
       "      <td>...</td>\n",
       "      <td>...</td>\n",
       "      <td>...</td>\n",
       "    </tr>\n",
       "    <tr>\n",
       "      <th>12277</th>\n",
       "      <td>4089</td>\n",
       "      <td>-6_dB_slider</td>\n",
       "      <td>slider</td>\n",
       "      <td>id_06</td>\n",
       "      <td>0</td>\n",
       "      <td>00000529.wav</td>\n",
       "      <td>22050</td>\n",
       "      <td>-1.374534e-06</td>\n",
       "      <td>0.051259</td>\n",
       "      <td>-0.044789</td>\n",
       "      <td>...</td>\n",
       "      <td>269.678844</td>\n",
       "      <td>183.938956</td>\n",
       "      <td>19.137946</td>\n",
       "      <td>0.000682</td>\n",
       "      <td>784.644594</td>\n",
       "      <td>0.017323</td>\n",
       "      <td>0.132249</td>\n",
       "      <td>0.205804</td>\n",
       "      <td>0.050570</td>\n",
       "      <td>0.020040</td>\n",
       "    </tr>\n",
       "    <tr>\n",
       "      <th>12278</th>\n",
       "      <td>4090</td>\n",
       "      <td>-6_dB_slider</td>\n",
       "      <td>slider</td>\n",
       "      <td>id_06</td>\n",
       "      <td>0</td>\n",
       "      <td>00000530.wav</td>\n",
       "      <td>22050</td>\n",
       "      <td>-1.610900e-06</td>\n",
       "      <td>0.056607</td>\n",
       "      <td>-0.046646</td>\n",
       "      <td>...</td>\n",
       "      <td>303.495835</td>\n",
       "      <td>264.428010</td>\n",
       "      <td>18.421030</td>\n",
       "      <td>0.000427</td>\n",
       "      <td>879.654324</td>\n",
       "      <td>0.016016</td>\n",
       "      <td>0.160038</td>\n",
       "      <td>0.263117</td>\n",
       "      <td>0.041363</td>\n",
       "      <td>0.024463</td>\n",
       "    </tr>\n",
       "    <tr>\n",
       "      <th>12279</th>\n",
       "      <td>4091</td>\n",
       "      <td>-6_dB_slider</td>\n",
       "      <td>slider</td>\n",
       "      <td>id_06</td>\n",
       "      <td>0</td>\n",
       "      <td>00000531.wav</td>\n",
       "      <td>22050</td>\n",
       "      <td>1.509938e-07</td>\n",
       "      <td>0.046809</td>\n",
       "      <td>-0.046547</td>\n",
       "      <td>...</td>\n",
       "      <td>272.159676</td>\n",
       "      <td>275.661921</td>\n",
       "      <td>18.094864</td>\n",
       "      <td>0.000344</td>\n",
       "      <td>869.767314</td>\n",
       "      <td>0.015242</td>\n",
       "      <td>0.156868</td>\n",
       "      <td>0.264192</td>\n",
       "      <td>0.044887</td>\n",
       "      <td>0.017440</td>\n",
       "    </tr>\n",
       "    <tr>\n",
       "      <th>12280</th>\n",
       "      <td>4092</td>\n",
       "      <td>-6_dB_slider</td>\n",
       "      <td>slider</td>\n",
       "      <td>id_06</td>\n",
       "      <td>0</td>\n",
       "      <td>00000532.wav</td>\n",
       "      <td>22050</td>\n",
       "      <td>-2.498447e-06</td>\n",
       "      <td>0.068962</td>\n",
       "      <td>-0.048627</td>\n",
       "      <td>...</td>\n",
       "      <td>423.126271</td>\n",
       "      <td>154.629036</td>\n",
       "      <td>21.015291</td>\n",
       "      <td>0.001319</td>\n",
       "      <td>672.206096</td>\n",
       "      <td>0.028216</td>\n",
       "      <td>0.130910</td>\n",
       "      <td>0.153431</td>\n",
       "      <td>0.035570</td>\n",
       "      <td>0.059789</td>\n",
       "    </tr>\n",
       "    <tr>\n",
       "      <th>12281</th>\n",
       "      <td>4093</td>\n",
       "      <td>-6_dB_slider</td>\n",
       "      <td>slider</td>\n",
       "      <td>id_06</td>\n",
       "      <td>0</td>\n",
       "      <td>00000533.wav</td>\n",
       "      <td>22050</td>\n",
       "      <td>-4.313579e-07</td>\n",
       "      <td>0.042259</td>\n",
       "      <td>-0.036754</td>\n",
       "      <td>...</td>\n",
       "      <td>163.175359</td>\n",
       "      <td>88.635109</td>\n",
       "      <td>20.586511</td>\n",
       "      <td>0.000457</td>\n",
       "      <td>373.822021</td>\n",
       "      <td>0.010019</td>\n",
       "      <td>0.157627</td>\n",
       "      <td>0.201745</td>\n",
       "      <td>0.045561</td>\n",
       "      <td>0.020305</td>\n",
       "    </tr>\n",
       "  </tbody>\n",
       "</table>\n",
       "<p>12282 rows × 75 columns</p>\n",
       "</div>"
      ],
      "text/plain": [
       "       Unnamed: 0   Type of SNR Type of Machine Model Number  Status  \\\n",
       "0               0   6_dB_slider          slider        id_00       1   \n",
       "1               1   6_dB_slider          slider        id_00       1   \n",
       "2               2   6_dB_slider          slider        id_00       1   \n",
       "3               3   6_dB_slider          slider        id_00       1   \n",
       "4               4   6_dB_slider          slider        id_00       1   \n",
       "...           ...           ...             ...          ...     ...   \n",
       "12277        4089  -6_dB_slider          slider        id_06       0   \n",
       "12278        4090  -6_dB_slider          slider        id_06       0   \n",
       "12279        4091  -6_dB_slider          slider        id_06       0   \n",
       "12280        4092  -6_dB_slider          slider        id_06       0   \n",
       "12281        4093  -6_dB_slider          slider        id_06       0   \n",
       "\n",
       "          File Name     SR        y mean     y max     y min  ...  \\\n",
       "0      00000000.wav  22050  4.348221e-07  0.032791 -0.031915  ...   \n",
       "1      00000001.wav  22050 -5.097089e-07  0.029326 -0.033344  ...   \n",
       "2      00000002.wav  22050  8.667761e-07  0.030970 -0.031253  ...   \n",
       "3      00000003.wav  22050 -2.379897e-07  0.036832 -0.033811  ...   \n",
       "4      00000004.wav  22050 -1.409447e-06  0.031055 -0.030601  ...   \n",
       "...             ...    ...           ...       ...       ...  ...   \n",
       "12277  00000529.wav  22050 -1.374534e-06  0.051259 -0.044789  ...   \n",
       "12278  00000530.wav  22050 -1.610900e-06  0.056607 -0.046646  ...   \n",
       "12279  00000531.wav  22050  1.509938e-07  0.046809 -0.046547  ...   \n",
       "12280  00000532.wav  22050 -2.498447e-06  0.068962 -0.048627  ...   \n",
       "12281  00000533.wav  22050 -4.313579e-07  0.042259 -0.036754  ...   \n",
       "\n",
       "       spectral_centroid std  spec_bw std  spec_contrast std  flatness std  \\\n",
       "0                 630.107312   340.883619          19.203000      0.001025   \n",
       "1                 595.729191   370.814820          19.328524      0.000797   \n",
       "2                 589.890656   363.171827          19.304648      0.000702   \n",
       "3                 541.191714   320.365960          19.480536      0.000405   \n",
       "4                 475.033670   209.546520          19.313479      0.000935   \n",
       "...                      ...          ...                ...           ...   \n",
       "12277             269.678844   183.938956          19.137946      0.000682   \n",
       "12278             303.495835   264.428010          18.421030      0.000427   \n",
       "12279             272.159676   275.661921          18.094864      0.000344   \n",
       "12280             423.126271   154.629036          21.015291      0.001319   \n",
       "12281             163.175359    88.635109          20.586511      0.000457   \n",
       "\n",
       "       rolloff std  poly_0 std  poly_1 std  poly_2 std  tonnetz std  \\\n",
       "0      1359.409669    0.027608    0.094531    0.120307     0.127336   \n",
       "1      1305.772864    0.027164    0.098246    0.127360     0.109052   \n",
       "2      1285.948405    0.026710    0.097347    0.126502     0.113372   \n",
       "3      1155.548194    0.026735    0.098209    0.127337     0.110830   \n",
       "4       958.610263    0.026646    0.095767    0.120880     0.122958   \n",
       "...            ...         ...         ...         ...          ...   \n",
       "12277   784.644594    0.017323    0.132249    0.205804     0.050570   \n",
       "12278   879.654324    0.016016    0.160038    0.263117     0.041363   \n",
       "12279   869.767314    0.015242    0.156868    0.264192     0.044887   \n",
       "12280   672.206096    0.028216    0.130910    0.153431     0.035570   \n",
       "12281   373.822021    0.010019    0.157627    0.201745     0.045561   \n",
       "\n",
       "       zero_crossing_rate std  \n",
       "0                    0.026109  \n",
       "1                    0.023448  \n",
       "2                    0.022279  \n",
       "3                    0.021454  \n",
       "4                    0.020523  \n",
       "...                       ...  \n",
       "12277                0.020040  \n",
       "12278                0.024463  \n",
       "12279                0.017440  \n",
       "12280                0.059789  \n",
       "12281                0.020305  \n",
       "\n",
       "[12282 rows x 75 columns]"
      ]
     },
     "execution_count": 4,
     "metadata": {},
     "output_type": "execute_result"
    }
   ],
   "source": [
    "df"
   ]
  },
  {
   "cell_type": "code",
   "execution_count": 3,
   "id": "collective-ethiopia",
   "metadata": {},
   "outputs": [
    {
     "data": {
      "text/plain": [
       "(16650, 76)"
      ]
     },
     "execution_count": 3,
     "metadata": {},
     "output_type": "execute_result"
    }
   ],
   "source": [
    "df.shape"
   ]
  },
  {
   "cell_type": "code",
   "execution_count": 5,
   "id": "entertaining-location",
   "metadata": {},
   "outputs": [
    {
     "data": {
      "text/html": [
       "<div>\n",
       "<style scoped>\n",
       "    .dataframe tbody tr th:only-of-type {\n",
       "        vertical-align: middle;\n",
       "    }\n",
       "\n",
       "    .dataframe tbody tr th {\n",
       "        vertical-align: top;\n",
       "    }\n",
       "\n",
       "    .dataframe thead th {\n",
       "        text-align: right;\n",
       "    }\n",
       "</style>\n",
       "<table border=\"1\" class=\"dataframe\">\n",
       "  <thead>\n",
       "    <tr style=\"text-align: right;\">\n",
       "      <th></th>\n",
       "      <th>Unnamed: 0</th>\n",
       "      <th>Status</th>\n",
       "      <th>SR</th>\n",
       "      <th>y mean</th>\n",
       "      <th>y max</th>\n",
       "      <th>y min</th>\n",
       "      <th>chroma_stft min</th>\n",
       "      <th>chroma_stft mean</th>\n",
       "      <th>chroma_stft max</th>\n",
       "      <th>chroma_cqt min</th>\n",
       "      <th>...</th>\n",
       "      <th>spectral_centroid std</th>\n",
       "      <th>spec_bw std</th>\n",
       "      <th>spec_contrast std</th>\n",
       "      <th>flatness std</th>\n",
       "      <th>rolloff std</th>\n",
       "      <th>poly_0 std</th>\n",
       "      <th>poly_1 std</th>\n",
       "      <th>poly_2 std</th>\n",
       "      <th>tonnetz std</th>\n",
       "      <th>zero_crossing_rate std</th>\n",
       "    </tr>\n",
       "  </thead>\n",
       "  <tbody>\n",
       "    <tr>\n",
       "      <th>count</th>\n",
       "      <td>12282.000000</td>\n",
       "      <td>12282.000000</td>\n",
       "      <td>12282.0</td>\n",
       "      <td>1.228200e+04</td>\n",
       "      <td>12282.000000</td>\n",
       "      <td>12282.000000</td>\n",
       "      <td>12282.000000</td>\n",
       "      <td>12282.000000</td>\n",
       "      <td>12282.0</td>\n",
       "      <td>12282.000000</td>\n",
       "      <td>...</td>\n",
       "      <td>12282.000000</td>\n",
       "      <td>12282.000000</td>\n",
       "      <td>12282.000000</td>\n",
       "      <td>12282.000000</td>\n",
       "      <td>12282.000000</td>\n",
       "      <td>12282.000000</td>\n",
       "      <td>12282.000000</td>\n",
       "      <td>12282.000000</td>\n",
       "      <td>12282.000000</td>\n",
       "      <td>12282.000000</td>\n",
       "    </tr>\n",
       "    <tr>\n",
       "      <th>mean</th>\n",
       "      <td>2046.500000</td>\n",
       "      <td>0.217391</td>\n",
       "      <td>22050.0</td>\n",
       "      <td>-2.869167e-07</td>\n",
       "      <td>0.032880</td>\n",
       "      <td>-0.032640</td>\n",
       "      <td>0.040161</td>\n",
       "      <td>0.423093</td>\n",
       "      <td>1.0</td>\n",
       "      <td>0.190376</td>\n",
       "      <td>...</td>\n",
       "      <td>262.754317</td>\n",
       "      <td>162.362467</td>\n",
       "      <td>18.163170</td>\n",
       "      <td>0.000482</td>\n",
       "      <td>626.037053</td>\n",
       "      <td>0.012605</td>\n",
       "      <td>0.098316</td>\n",
       "      <td>0.155364</td>\n",
       "      <td>0.053444</td>\n",
       "      <td>0.022289</td>\n",
       "    </tr>\n",
       "    <tr>\n",
       "      <th>std</th>\n",
       "      <td>1181.884081</td>\n",
       "      <td>0.412488</td>\n",
       "      <td>0.0</td>\n",
       "      <td>2.191255e-06</td>\n",
       "      <td>0.011141</td>\n",
       "      <td>0.011699</td>\n",
       "      <td>0.035329</td>\n",
       "      <td>0.123739</td>\n",
       "      <td>0.0</td>\n",
       "      <td>0.049660</td>\n",
       "      <td>...</td>\n",
       "      <td>198.152312</td>\n",
       "      <td>111.273047</td>\n",
       "      <td>1.135607</td>\n",
       "      <td>0.000406</td>\n",
       "      <td>439.223381</td>\n",
       "      <td>0.008107</td>\n",
       "      <td>0.040434</td>\n",
       "      <td>0.065976</td>\n",
       "      <td>0.018114</td>\n",
       "      <td>0.018094</td>\n",
       "    </tr>\n",
       "    <tr>\n",
       "      <th>min</th>\n",
       "      <td>0.000000</td>\n",
       "      <td>0.000000</td>\n",
       "      <td>22050.0</td>\n",
       "      <td>-1.262625e-05</td>\n",
       "      <td>0.013023</td>\n",
       "      <td>-0.147516</td>\n",
       "      <td>0.000474</td>\n",
       "      <td>0.161258</td>\n",
       "      <td>1.0</td>\n",
       "      <td>0.048784</td>\n",
       "      <td>...</td>\n",
       "      <td>38.402975</td>\n",
       "      <td>24.678135</td>\n",
       "      <td>14.422652</td>\n",
       "      <td>0.000014</td>\n",
       "      <td>87.599978</td>\n",
       "      <td>0.003521</td>\n",
       "      <td>0.034216</td>\n",
       "      <td>0.045802</td>\n",
       "      <td>0.027556</td>\n",
       "      <td>0.003475</td>\n",
       "    </tr>\n",
       "    <tr>\n",
       "      <th>25%</th>\n",
       "      <td>1023.000000</td>\n",
       "      <td>0.000000</td>\n",
       "      <td>22050.0</td>\n",
       "      <td>-1.438850e-06</td>\n",
       "      <td>0.024331</td>\n",
       "      <td>-0.040918</td>\n",
       "      <td>0.013067</td>\n",
       "      <td>0.314927</td>\n",
       "      <td>1.0</td>\n",
       "      <td>0.155538</td>\n",
       "      <td>...</td>\n",
       "      <td>87.647937</td>\n",
       "      <td>63.541426</td>\n",
       "      <td>17.383351</td>\n",
       "      <td>0.000207</td>\n",
       "      <td>241.466701</td>\n",
       "      <td>0.005677</td>\n",
       "      <td>0.063449</td>\n",
       "      <td>0.100066</td>\n",
       "      <td>0.040290</td>\n",
       "      <td>0.008072</td>\n",
       "    </tr>\n",
       "    <tr>\n",
       "      <th>50%</th>\n",
       "      <td>2046.500000</td>\n",
       "      <td>0.000000</td>\n",
       "      <td>22050.0</td>\n",
       "      <td>-2.384596e-07</td>\n",
       "      <td>0.030220</td>\n",
       "      <td>-0.030086</td>\n",
       "      <td>0.025282</td>\n",
       "      <td>0.406755</td>\n",
       "      <td>1.0</td>\n",
       "      <td>0.192532</td>\n",
       "      <td>...</td>\n",
       "      <td>204.185917</td>\n",
       "      <td>126.087214</td>\n",
       "      <td>18.339175</td>\n",
       "      <td>0.000362</td>\n",
       "      <td>485.896593</td>\n",
       "      <td>0.011611</td>\n",
       "      <td>0.086601</td>\n",
       "      <td>0.136547</td>\n",
       "      <td>0.048847</td>\n",
       "      <td>0.016320</td>\n",
       "    </tr>\n",
       "    <tr>\n",
       "      <th>75%</th>\n",
       "      <td>3070.000000</td>\n",
       "      <td>0.000000</td>\n",
       "      <td>22050.0</td>\n",
       "      <td>9.149385e-07</td>\n",
       "      <td>0.040833</td>\n",
       "      <td>-0.023497</td>\n",
       "      <td>0.060748</td>\n",
       "      <td>0.542117</td>\n",
       "      <td>1.0</td>\n",
       "      <td>0.224483</td>\n",
       "      <td>...</td>\n",
       "      <td>406.082208</td>\n",
       "      <td>245.934736</td>\n",
       "      <td>19.027006</td>\n",
       "      <td>0.000615</td>\n",
       "      <td>973.601219</td>\n",
       "      <td>0.016857</td>\n",
       "      <td>0.132904</td>\n",
       "      <td>0.216633</td>\n",
       "      <td>0.062568</td>\n",
       "      <td>0.030326</td>\n",
       "    </tr>\n",
       "    <tr>\n",
       "      <th>max</th>\n",
       "      <td>4093.000000</td>\n",
       "      <td>1.000000</td>\n",
       "      <td>22050.0</td>\n",
       "      <td>1.140974e-05</td>\n",
       "      <td>0.164791</td>\n",
       "      <td>-0.013447</td>\n",
       "      <td>0.259311</td>\n",
       "      <td>0.708442</td>\n",
       "      <td>1.0</td>\n",
       "      <td>0.363391</td>\n",
       "      <td>...</td>\n",
       "      <td>960.871508</td>\n",
       "      <td>571.091061</td>\n",
       "      <td>21.694131</td>\n",
       "      <td>0.004642</td>\n",
       "      <td>2114.975078</td>\n",
       "      <td>0.070279</td>\n",
       "      <td>0.236579</td>\n",
       "      <td>0.368078</td>\n",
       "      <td>0.162714</td>\n",
       "      <td>0.096145</td>\n",
       "    </tr>\n",
       "  </tbody>\n",
       "</table>\n",
       "<p>8 rows × 71 columns</p>\n",
       "</div>"
      ],
      "text/plain": [
       "         Unnamed: 0        Status       SR        y mean         y max  \\\n",
       "count  12282.000000  12282.000000  12282.0  1.228200e+04  12282.000000   \n",
       "mean    2046.500000      0.217391  22050.0 -2.869167e-07      0.032880   \n",
       "std     1181.884081      0.412488      0.0  2.191255e-06      0.011141   \n",
       "min        0.000000      0.000000  22050.0 -1.262625e-05      0.013023   \n",
       "25%     1023.000000      0.000000  22050.0 -1.438850e-06      0.024331   \n",
       "50%     2046.500000      0.000000  22050.0 -2.384596e-07      0.030220   \n",
       "75%     3070.000000      0.000000  22050.0  9.149385e-07      0.040833   \n",
       "max     4093.000000      1.000000  22050.0  1.140974e-05      0.164791   \n",
       "\n",
       "              y min  chroma_stft min  chroma_stft mean  chroma_stft max  \\\n",
       "count  12282.000000     12282.000000      12282.000000          12282.0   \n",
       "mean      -0.032640         0.040161          0.423093              1.0   \n",
       "std        0.011699         0.035329          0.123739              0.0   \n",
       "min       -0.147516         0.000474          0.161258              1.0   \n",
       "25%       -0.040918         0.013067          0.314927              1.0   \n",
       "50%       -0.030086         0.025282          0.406755              1.0   \n",
       "75%       -0.023497         0.060748          0.542117              1.0   \n",
       "max       -0.013447         0.259311          0.708442              1.0   \n",
       "\n",
       "       chroma_cqt min  ...  spectral_centroid std   spec_bw std  \\\n",
       "count    12282.000000  ...           12282.000000  12282.000000   \n",
       "mean         0.190376  ...             262.754317    162.362467   \n",
       "std          0.049660  ...             198.152312    111.273047   \n",
       "min          0.048784  ...              38.402975     24.678135   \n",
       "25%          0.155538  ...              87.647937     63.541426   \n",
       "50%          0.192532  ...             204.185917    126.087214   \n",
       "75%          0.224483  ...             406.082208    245.934736   \n",
       "max          0.363391  ...             960.871508    571.091061   \n",
       "\n",
       "       spec_contrast std  flatness std   rolloff std    poly_0 std  \\\n",
       "count       12282.000000  12282.000000  12282.000000  12282.000000   \n",
       "mean           18.163170      0.000482    626.037053      0.012605   \n",
       "std             1.135607      0.000406    439.223381      0.008107   \n",
       "min            14.422652      0.000014     87.599978      0.003521   \n",
       "25%            17.383351      0.000207    241.466701      0.005677   \n",
       "50%            18.339175      0.000362    485.896593      0.011611   \n",
       "75%            19.027006      0.000615    973.601219      0.016857   \n",
       "max            21.694131      0.004642   2114.975078      0.070279   \n",
       "\n",
       "         poly_1 std    poly_2 std   tonnetz std  zero_crossing_rate std  \n",
       "count  12282.000000  12282.000000  12282.000000            12282.000000  \n",
       "mean       0.098316      0.155364      0.053444                0.022289  \n",
       "std        0.040434      0.065976      0.018114                0.018094  \n",
       "min        0.034216      0.045802      0.027556                0.003475  \n",
       "25%        0.063449      0.100066      0.040290                0.008072  \n",
       "50%        0.086601      0.136547      0.048847                0.016320  \n",
       "75%        0.132904      0.216633      0.062568                0.030326  \n",
       "max        0.236579      0.368078      0.162714                0.096145  \n",
       "\n",
       "[8 rows x 71 columns]"
      ]
     },
     "execution_count": 5,
     "metadata": {},
     "output_type": "execute_result"
    }
   ],
   "source": [
    "df.describe()"
   ]
  },
  {
   "cell_type": "markdown",
   "id": "reliable-lighter",
   "metadata": {},
   "source": [
    "Then we only use the features that we needed and save it as df1."
   ]
  },
  {
   "cell_type": "code",
   "execution_count": 7,
   "id": "vital-transcript",
   "metadata": {},
   "outputs": [],
   "source": [
    "df1 = df[[ 'y mean', 'y max', 'y min', 'chroma_stft min',\n",
    "       'chroma_stft mean', 'chroma_stft max', 'chroma_cqt min',\n",
    "       'chroma_cqt mean', 'chroma_cqt max', 'chroma_cens min',\n",
    "       'chroma_cens mean', 'chroma_cens max', 'melspectogram min',\n",
    "       'melspectogram mean', 'melspectogram max', 'mfcc min', 'mfcc mean',\n",
    "       'mfcc max', 'rms min', 'rms mean', 'rms max', 'spectral_centroid min',\n",
    "       'spectral_centroid mean', 'spectral_centroid max', 'spec_bw min',\n",
    "       'spec_bw mean', 'spec_bw max', 'spec_contrast min',\n",
    "       'spec_contrast mean', 'spec_contrast max', 'flatness min',\n",
    "       'flatness mean', 'flatness max', 'rolloff min', 'rolloff mean',\n",
    "       'rolloff max', 'poly_0 min', 'poly_0 mean', 'poly_0 max', 'poly_1 min',\n",
    "       'poly_1 mean', 'poly_1 max', 'poly_2 min', 'poly_2 mean', 'poly_2 max',\n",
    "       'tonnetz min', 'tonnetz mean', 'tonnetz max', 'zero_crossing_rate min',\n",
    "       'zero_crossing_rate mean', 'zero_crossing_rate max', 'y std',\n",
    "       'chroma_stft std', 'chroma_cqt std', 'chroma_cens std',\n",
    "       'melspectogram std', 'mfcc std', 'rms std', 'spectral_centroid std',\n",
    "       'spec_bw std', 'spec_contrast std', 'flatness std', 'rolloff std',\n",
    "       'poly_0 std', 'poly_1 std', 'poly_2 std', 'tonnetz std',\n",
    "       'zero_crossing_rate std']].copy()"
   ]
  },
  {
   "cell_type": "markdown",
   "id": "inclusive-pipeline",
   "metadata": {},
   "source": [
    "And change the Status column to binary."
   ]
  },
  {
   "cell_type": "code",
   "execution_count": 8,
   "id": "pointed-corporation",
   "metadata": {},
   "outputs": [],
   "source": [
    "df['Status'].replace({'abnormal' : 1, 'normal' : 0}, inplace=True)"
   ]
  },
  {
   "cell_type": "markdown",
   "id": "filled-creator",
   "metadata": {},
   "source": [
    "We can clearly see here that there is an unbalance targets."
   ]
  },
  {
   "cell_type": "code",
   "execution_count": 9,
   "id": "duplicate-characterization",
   "metadata": {},
   "outputs": [
    {
     "data": {
      "text/plain": [
       "0    9612\n",
       "1    2670\n",
       "Name: Status, dtype: int64"
      ]
     },
     "execution_count": 9,
     "metadata": {},
     "output_type": "execute_result"
    }
   ],
   "source": [
    "df['Status'].value_counts()"
   ]
  },
  {
   "cell_type": "markdown",
   "id": "unauthorized-mailman",
   "metadata": {},
   "source": [
    "Now we assign the df1 as the features (X) and the Status column as the target (y)."
   ]
  },
  {
   "cell_type": "code",
   "execution_count": 10,
   "id": "conservative-modification",
   "metadata": {},
   "outputs": [
    {
     "data": {
      "text/plain": [
       "((12282, 68), (12282,))"
      ]
     },
     "execution_count": 10,
     "metadata": {},
     "output_type": "execute_result"
    }
   ],
   "source": [
    "X = df1.values\n",
    "y = df['Status'].values\n",
    "X.shape, y.shape"
   ]
  },
  {
   "cell_type": "markdown",
   "id": "shared-layer",
   "metadata": {},
   "source": [
    "Now that we have the features and target, we can now divide the dataset to 3, training, test and validation set. "
   ]
  },
  {
   "cell_type": "markdown",
   "id": "dental-rachel",
   "metadata": {},
   "source": [
    "### Divide the data into Training, Test and Validation Set"
   ]
  },
  {
   "cell_type": "markdown",
   "id": "complicated-hollow",
   "metadata": {},
   "source": [
    "We will use the `train_test_split` from sklearn to divide the data to three sets.\n"
   ]
  },
  {
   "cell_type": "markdown",
   "id": "addressed-circular",
   "metadata": {},
   "source": [
    "We will take 10% of the data as the validation set."
   ]
  },
  {
   "cell_type": "code",
   "execution_count": 11,
   "id": "flying-movie",
   "metadata": {},
   "outputs": [],
   "source": [
    "X_model, X_validate, y_model, y_validate = train_test_split(X,y,test_size=0.1,random_state = 40)"
   ]
  },
  {
   "cell_type": "markdown",
   "id": "roman-caribbean",
   "metadata": {},
   "source": [
    "And then from the remaining 90% we get the 20% for the testing set. "
   ]
  },
  {
   "cell_type": "code",
   "execution_count": 12,
   "id": "theoretical-server",
   "metadata": {},
   "outputs": [],
   "source": [
    "X_train, X_test, y_train, y_test = train_test_split(X_model,y_model,test_size=0.2,random_state = 40)"
   ]
  },
  {
   "cell_type": "markdown",
   "id": "empirical-sullivan",
   "metadata": {},
   "source": [
    "Based from our exploration, `RandomForestClassifier` is best used for this classification model so here we named it as `rf` to create the model.  "
   ]
  },
  {
   "cell_type": "code",
   "execution_count": 13,
   "id": "creative-excess",
   "metadata": {},
   "outputs": [
    {
     "data": {
      "text/plain": [
       "0.966078697421981"
      ]
     },
     "execution_count": 13,
     "metadata": {},
     "output_type": "execute_result"
    }
   ],
   "source": [
    "rf = RandomForestClassifier(n_estimators=40)\n",
    "rf.fit(X_train, y_train)\n",
    "rf.score(X_test, y_test)"
   ]
  },
  {
   "cell_type": "markdown",
   "id": "graphic-departure",
   "metadata": {},
   "source": [
    "Checking the classification report on the test set."
   ]
  },
  {
   "cell_type": "code",
   "execution_count": 14,
   "id": "timely-friday",
   "metadata": {},
   "outputs": [
    {
     "name": "stdout",
     "output_type": "stream",
     "text": [
      "              precision    recall  f1-score   support\n",
      "\n",
      "           0       0.96      1.00      0.98      1716\n",
      "           1       0.98      0.86      0.92       495\n",
      "\n",
      "    accuracy                           0.97      2211\n",
      "   macro avg       0.97      0.93      0.95      2211\n",
      "weighted avg       0.97      0.97      0.97      2211\n",
      "\n"
     ]
    }
   ],
   "source": [
    "y_pred = rf.predict(X_test)\n",
    "print(classification_report(y_test,y_pred))"
   ]
  },
  {
   "cell_type": "markdown",
   "id": "excess-chrome",
   "metadata": {},
   "source": [
    "Checking the classification report on the validation set."
   ]
  },
  {
   "cell_type": "code",
   "execution_count": 20,
   "id": "mature-wichita",
   "metadata": {},
   "outputs": [
    {
     "name": "stdout",
     "output_type": "stream",
     "text": [
      "              precision    recall  f1-score   support\n",
      "\n",
      "           0       0.96      1.00      0.98       967\n",
      "           1       0.98      0.83      0.90       262\n",
      "\n",
      "    accuracy                           0.96      1229\n",
      "   macro avg       0.97      0.91      0.94      1229\n",
      "weighted avg       0.96      0.96      0.96      1229\n",
      "\n"
     ]
    }
   ],
   "source": [
    "validation_test = rf.predict(X_validate)\n",
    "print(classification_report(y_validate,validation_test))"
   ]
  },
  {
   "cell_type": "markdown",
   "id": "removable-adolescent",
   "metadata": {},
   "source": [
    "Saving the model using the pickle library"
   ]
  },
  {
   "cell_type": "code",
   "execution_count": 16,
   "id": "military-vegetarian",
   "metadata": {},
   "outputs": [],
   "source": [
    "filename = '../Models/fan_model.sav'\n",
    "pickle.dump(rf, open(filename, 'wb'))"
   ]
  },
  {
   "cell_type": "markdown",
   "id": "illegal-deviation",
   "metadata": {},
   "source": [
    "Plotting the feature importance to have a visual on the features."
   ]
  },
  {
   "cell_type": "code",
   "execution_count": 21,
   "id": "cheap-metadata",
   "metadata": {},
   "outputs": [
    {
     "name": "stdout",
     "output_type": "stream",
     "text": [
      "Feature: y mean, Score: 0.00314\n",
      "Feature: y max, Score: 0.00960\n",
      "Feature: y min, Score: 0.01105\n",
      "Feature: chroma_stft min, Score: 0.00534\n",
      "Feature: chroma_stft mean, Score: 0.00879\n",
      "Feature: chroma_stft max, Score: 0.00000\n",
      "Feature: chroma_cqt min, Score: 0.00565\n",
      "Feature: chroma_cqt mean, Score: 0.01815\n",
      "Feature: chroma_cqt max, Score: 0.00000\n",
      "Feature: chroma_cens min, Score: 0.00426\n",
      "Feature: chroma_cens mean, Score: 0.00642\n",
      "Feature: chroma_cens max, Score: 0.00805\n",
      "Feature: melspectogram min, Score: 0.00000\n",
      "Feature: melspectogram mean, Score: 0.02365\n",
      "Feature: melspectogram max, Score: 0.01846\n",
      "Feature: mfcc min, Score: 0.00443\n",
      "Feature: mfcc mean, Score: 0.00797\n",
      "Feature: mfcc max, Score: 0.00535\n",
      "Feature: rms min, Score: 0.00722\n",
      "Feature: rms mean, Score: 0.01956\n",
      "Feature: rms max, Score: 0.00977\n",
      "Feature: spectral_centroid min, Score: 0.00500\n",
      "Feature: spectral_centroid mean, Score: 0.02079\n",
      "Feature: spectral_centroid max, Score: 0.02569\n",
      "Feature: spec_bw min, Score: 0.00542\n",
      "Feature: spec_bw mean, Score: 0.03634\n",
      "Feature: spec_bw max, Score: 0.03069\n",
      "Feature: spec_contrast min, Score: 0.00567\n",
      "Feature: spec_contrast mean, Score: 0.01251\n",
      "Feature: spec_contrast max, Score: 0.02462\n",
      "Feature: flatness min, Score: 0.00635\n",
      "Feature: flatness mean, Score: 0.00909\n",
      "Feature: flatness max, Score: 0.00303\n",
      "Feature: rolloff min, Score: 0.00691\n",
      "Feature: rolloff mean, Score: 0.02776\n",
      "Feature: rolloff max, Score: 0.04621\n",
      "Feature: poly_0 min, Score: 0.00734\n",
      "Feature: poly_0 mean, Score: 0.01702\n",
      "Feature: poly_0 max, Score: 0.01186\n",
      "Feature: poly_1 min, Score: 0.01021\n",
      "Feature: poly_1 mean, Score: 0.01014\n",
      "Feature: poly_1 max, Score: 0.01027\n",
      "Feature: poly_2 min, Score: 0.01557\n",
      "Feature: poly_2 mean, Score: 0.00939\n",
      "Feature: poly_2 max, Score: 0.01591\n",
      "Feature: tonnetz min, Score: 0.00295\n",
      "Feature: tonnetz mean, Score: 0.00405\n",
      "Feature: tonnetz max, Score: 0.00522\n",
      "Feature: zero_crossing_rate min, Score: 0.00342\n",
      "Feature: zero_crossing_rate mean, Score: 0.01692\n",
      "Feature: zero_crossing_rate max, Score: 0.03044\n",
      "Feature: y std, Score: 0.03409\n",
      "Feature: chroma_stft std, Score: 0.00786\n",
      "Feature: chroma_cqt std, Score: 0.00637\n",
      "Feature: chroma_cens std, Score: 0.00413\n",
      "Feature: melspectogram std, Score: 0.02720\n",
      "Feature: mfcc std, Score: 0.01191\n",
      "Feature: rms std, Score: 0.08696\n",
      "Feature: spectral_centroid std, Score: 0.01865\n",
      "Feature: spec_bw std, Score: 0.01083\n",
      "Feature: spec_contrast std, Score: 0.01207\n",
      "Feature: flatness std, Score: 0.00528\n",
      "Feature: rolloff std, Score: 0.01767\n",
      "Feature: poly_0 std, Score: 0.08173\n",
      "Feature: poly_1 std, Score: 0.02148\n",
      "Feature: poly_2 std, Score: 0.00917\n",
      "Feature: tonnetz std, Score: 0.01237\n",
      "Feature: zero_crossing_rate std, Score: 0.01859\n"
     ]
    },
    {
     "data": {
      "image/png": "[encoded data removed]",
      "text/plain": [
       "<Figure size 432x288 with 1 Axes>"
      ]
     },
     "metadata": {
      "needs_background": "light"
     },
     "output_type": "display_data"
    }
   ],
   "source": [
    "importance = rf.feature_importances_\n",
    "for i,v in enumerate(importance):\n",
    "    print(f'Feature: {df1.columns[i]}, Score: {v:.5f}')\n",
    "pyplot.bar([x for x in range(len(importance))], importance)\n",
    "pyplot.show()"
   ]
  },
  {
   "cell_type": "markdown",
   "id": "north-glory",
   "metadata": {},
   "source": [
    "### Resampling the data using SMOTE"
   ]
  },
  {
   "cell_type": "markdown",
   "id": "balanced-render",
   "metadata": {},
   "source": [
    "Trying to do oversampling using SMOTE to even the number of normal and abnormal on the target."
   ]
  },
  {
   "cell_type": "code",
   "execution_count": 22,
   "id": "referenced-premises",
   "metadata": {},
   "outputs": [],
   "source": [
    "sm = SMOTE(random_state=12)\n",
    "X_train_res, y_train_res = sm.fit_resample(X_train, y_train)"
   ]
  },
  {
   "cell_type": "markdown",
   "id": "given-therapy",
   "metadata": {},
   "source": [
    "Then use again the `RandomForestClassifier` to train the model."
   ]
  },
  {
   "cell_type": "code",
   "execution_count": 24,
   "id": "floral-ethernet",
   "metadata": {},
   "outputs": [
    {
     "data": {
      "text/plain": [
       "0.9701492537313433"
      ]
     },
     "execution_count": 24,
     "metadata": {},
     "output_type": "execute_result"
    }
   ],
   "source": [
    "rf = RandomForestClassifier(n_estimators=40)\n",
    "rf.fit(X_train_res, y_train_res)\n",
    "rf.score(X_test, y_test) "
   ]
  },
  {
   "cell_type": "markdown",
   "id": "smart-detective",
   "metadata": {},
   "source": [
    "Saving the model again using the `pickle.dump` function."
   ]
  },
  {
   "cell_type": "code",
   "execution_count": 26,
   "id": "considerable-claim",
   "metadata": {},
   "outputs": [],
   "source": [
    "filename = '../Models/fan_model.sav'\n",
    "pickle.dump(rf, open(filename, 'wb'))"
   ]
  },
  {
   "cell_type": "markdown",
   "id": "lightweight-highlight",
   "metadata": {},
   "source": [
    "Checking the predictions on the `X_test`."
   ]
  },
  {
   "cell_type": "code",
   "execution_count": 27,
   "id": "piano-connection",
   "metadata": {},
   "outputs": [],
   "source": [
    "y_test_pred = rf.predict(X_test)"
   ]
  },
  {
   "cell_type": "markdown",
   "id": "unexpected-bulgarian",
   "metadata": {},
   "source": [
    "Checking the True Positive and True Negative using `pd.crosstab` for the test dataset predictions."
   ]
  },
  {
   "cell_type": "code",
   "execution_count": 28,
   "id": "exceptional-procurement",
   "metadata": {},
   "outputs": [
    {
     "data": {
      "text/html": [
       "<div>\n",
       "<style scoped>\n",
       "    .dataframe tbody tr th:only-of-type {\n",
       "        vertical-align: middle;\n",
       "    }\n",
       "\n",
       "    .dataframe tbody tr th {\n",
       "        vertical-align: top;\n",
       "    }\n",
       "\n",
       "    .dataframe thead th {\n",
       "        text-align: right;\n",
       "    }\n",
       "</style>\n",
       "<table border=\"1\" class=\"dataframe\">\n",
       "  <thead>\n",
       "    <tr style=\"text-align: right;\">\n",
       "      <th>Actual</th>\n",
       "      <th>0</th>\n",
       "      <th>1</th>\n",
       "    </tr>\n",
       "    <tr>\n",
       "      <th>Predicted</th>\n",
       "      <th></th>\n",
       "      <th></th>\n",
       "    </tr>\n",
       "  </thead>\n",
       "  <tbody>\n",
       "    <tr>\n",
       "      <th>0</th>\n",
       "      <td>1691</td>\n",
       "      <td>41</td>\n",
       "    </tr>\n",
       "    <tr>\n",
       "      <th>1</th>\n",
       "      <td>25</td>\n",
       "      <td>454</td>\n",
       "    </tr>\n",
       "  </tbody>\n",
       "</table>\n",
       "</div>"
      ],
      "text/plain": [
       "Actual        0    1\n",
       "Predicted           \n",
       "0          1691   41\n",
       "1            25  454"
      ]
     },
     "execution_count": 28,
     "metadata": {},
     "output_type": "execute_result"
    }
   ],
   "source": [
    "pd.crosstab(pd.Series(y_test_pred, name = 'Predicted'),\n",
    "           pd.Series(y_test, name='Actual'))"
   ]
  },
  {
   "cell_type": "markdown",
   "id": "trained-standard",
   "metadata": {},
   "source": [
    "Printing the classification report on the test data set. "
   ]
  },
  {
   "cell_type": "code",
   "execution_count": 29,
   "id": "perfect-homeless",
   "metadata": {},
   "outputs": [
    {
     "name": "stdout",
     "output_type": "stream",
     "text": [
      "              precision    recall  f1-score   support\n",
      "\n",
      "           0       0.98      0.99      0.98      1716\n",
      "           1       0.95      0.92      0.93       495\n",
      "\n",
      "    accuracy                           0.97      2211\n",
      "   macro avg       0.96      0.95      0.96      2211\n",
      "weighted avg       0.97      0.97      0.97      2211\n",
      "\n"
     ]
    }
   ],
   "source": [
    "print(classification_report(y_test,y_test_pred))"
   ]
  },
  {
   "cell_type": "markdown",
   "id": "sunrise-church",
   "metadata": {},
   "source": [
    "Now let us check the model on the validation set."
   ]
  },
  {
   "cell_type": "code",
   "execution_count": 41,
   "id": "ceramic-illustration",
   "metadata": {},
   "outputs": [],
   "source": [
    "validation_test = rf.predict(X_validate)"
   ]
  },
  {
   "cell_type": "markdown",
   "id": "exciting-supply",
   "metadata": {},
   "source": [
    "Then also check the True Positive and True Negative for the validation set. "
   ]
  },
  {
   "cell_type": "code",
   "execution_count": 30,
   "id": "democratic-thomson",
   "metadata": {},
   "outputs": [
    {
     "data": {
      "text/html": [
       "<div>\n",
       "<style scoped>\n",
       "    .dataframe tbody tr th:only-of-type {\n",
       "        vertical-align: middle;\n",
       "    }\n",
       "\n",
       "    .dataframe tbody tr th {\n",
       "        vertical-align: top;\n",
       "    }\n",
       "\n",
       "    .dataframe thead th {\n",
       "        text-align: right;\n",
       "    }\n",
       "</style>\n",
       "<table border=\"1\" class=\"dataframe\">\n",
       "  <thead>\n",
       "    <tr style=\"text-align: right;\">\n",
       "      <th>Actual</th>\n",
       "      <th>0</th>\n",
       "      <th>1</th>\n",
       "    </tr>\n",
       "    <tr>\n",
       "      <th>Predicted</th>\n",
       "      <th></th>\n",
       "      <th></th>\n",
       "    </tr>\n",
       "  </thead>\n",
       "  <tbody>\n",
       "    <tr>\n",
       "      <th>0</th>\n",
       "      <td>963</td>\n",
       "      <td>44</td>\n",
       "    </tr>\n",
       "    <tr>\n",
       "      <th>1</th>\n",
       "      <td>4</td>\n",
       "      <td>218</td>\n",
       "    </tr>\n",
       "  </tbody>\n",
       "</table>\n",
       "</div>"
      ],
      "text/plain": [
       "Actual       0    1\n",
       "Predicted          \n",
       "0          963   44\n",
       "1            4  218"
      ]
     },
     "execution_count": 30,
     "metadata": {},
     "output_type": "execute_result"
    }
   ],
   "source": [
    "pd.crosstab(pd.Series(validation_test, name = 'Predicted'),\n",
    "           pd.Series(y_validate, name='Actual'))"
   ]
  },
  {
   "cell_type": "markdown",
   "id": "civilian-comparative",
   "metadata": {},
   "source": [
    "Then print the classification report for the validation set."
   ]
  },
  {
   "cell_type": "code",
   "execution_count": 31,
   "id": "nutritional-found",
   "metadata": {},
   "outputs": [
    {
     "name": "stdout",
     "output_type": "stream",
     "text": [
      "              precision    recall  f1-score   support\n",
      "\n",
      "           0       0.96      1.00      0.98       967\n",
      "           1       0.98      0.83      0.90       262\n",
      "\n",
      "    accuracy                           0.96      1229\n",
      "   macro avg       0.97      0.91      0.94      1229\n",
      "weighted avg       0.96      0.96      0.96      1229\n",
      "\n"
     ]
    }
   ],
   "source": [
    "print(classification_report(y_validate,validation_test))"
   ]
  },
  {
   "cell_type": "markdown",
   "id": "shaped-vision",
   "metadata": {},
   "source": [
    "And now we have the model for fan. :)"
   ]
  }
 ],
 "metadata": {
  "kernelspec": {
   "display_name": "Python 3",
   "language": "python",
   "name": "python3"
  },
  "language_info": {
   "codemirror_mode": {
    "name": "ipython",
    "version": 3
   },
   "file_extension": ".py",
   "mimetype": "text/x-python",
   "name": "python",
   "nbconvert_exporter": "python",
   "pygments_lexer": "ipython3",
   "version": "3.9.2"
  }
 },
 "nbformat": 4,
 "nbformat_minor": 5
}

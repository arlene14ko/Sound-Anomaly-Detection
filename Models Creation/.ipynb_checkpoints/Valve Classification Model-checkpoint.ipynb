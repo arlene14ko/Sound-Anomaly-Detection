{
 "cells": [
  {
   "cell_type": "markdown",
   "id": "educated-coalition",
   "metadata": {},
   "source": [
    "# Valve Classification Model\n"
   ]
  },
  {
   "cell_type": "markdown",
   "id": "continent-sarah",
   "metadata": {},
   "source": [
    "A jupyter notebook to create the classification model for the fan machines.\n"
   ]
  },
  {
   "cell_type": "markdown",
   "id": "intermediate-gospel",
   "metadata": {},
   "source": [
    "### Getting the dataset"
   ]
  },
  {
   "cell_type": "markdown",
   "id": "featured-intake",
   "metadata": {},
   "source": [
    "First is to import the necessary libraries needed"
   ]
  },
  {
   "cell_type": "code",
   "execution_count": 19,
   "id": "raised-times",
   "metadata": {},
   "outputs": [],
   "source": [
    "import numpy as np\n",
    "import pandas as pd\n",
    "import matplotlib.pyplot as plt\n",
    "from sklearn.model_selection import train_test_split\n",
    "\n",
    "from sklearn.ensemble import RandomForestClassifier\n",
    "import pickle\n",
    "from sklearn.metrics import classification_report\n",
    "from imblearn.over_sampling import SMOTE"
   ]
  },
  {
   "cell_type": "markdown",
   "id": "organized-seating",
   "metadata": {},
   "source": [
    "Then import the dataset. This dataset was extracted from the sound files."
   ]
  },
  {
   "cell_type": "code",
   "execution_count": 20,
   "id": "medieval-nancy",
   "metadata": {},
   "outputs": [],
   "source": [
    "df = pd.read_csv('../datasets/valve_full_features.csv')"
   ]
  },
  {
   "cell_type": "code",
   "execution_count": 21,
   "id": "signal-biodiversity",
   "metadata": {},
   "outputs": [
    {
     "data": {
      "text/plain": [
       "(12510, 76)"
      ]
     },
     "execution_count": 21,
     "metadata": {},
     "output_type": "execute_result"
    }
   ],
   "source": [
    "df.shape"
   ]
  },
  {
   "cell_type": "code",
   "execution_count": 22,
   "id": "complicated-ivory",
   "metadata": {},
   "outputs": [
    {
     "data": {
      "text/plain": [
       "Index(['Unnamed: 0', 'Type of SNR', 'Type of Machine', 'Model Number',\n",
       "       'Status', 'File Name', 'y', 'SR', 'y mean', 'y max', 'y min',\n",
       "       'chroma_stft min', 'chroma_stft mean', 'chroma_stft max',\n",
       "       'chroma_cqt min', 'chroma_cqt mean', 'chroma_cqt max',\n",
       "       'chroma_cens min', 'chroma_cens mean', 'chroma_cens max',\n",
       "       'melspectogram min', 'melspectogram mean', 'melspectogram max',\n",
       "       'mfcc min', 'mfcc mean', 'mfcc max', 'rms min', 'rms mean', 'rms max',\n",
       "       'spectral_centroid min', 'spectral_centroid mean',\n",
       "       'spectral_centroid max', 'spec_bw min', 'spec_bw mean', 'spec_bw max',\n",
       "       'spec_contrast min', 'spec_contrast mean', 'spec_contrast max',\n",
       "       'flatness min', 'flatness mean', 'flatness max', 'rolloff min',\n",
       "       'rolloff mean', 'rolloff max', 'poly_0 min', 'poly_0 mean',\n",
       "       'poly_0 max', 'poly_1 min', 'poly_1 mean', 'poly_1 max', 'poly_2 min',\n",
       "       'poly_2 mean', 'poly_2 max', 'tonnetz min', 'tonnetz mean',\n",
       "       'tonnetz max', 'zero_crossing_rate min', 'zero_crossing_rate mean',\n",
       "       'zero_crossing_rate max', 'y std', 'chroma_stft std', 'chroma_cqt std',\n",
       "       'chroma_cens std', 'melspectogram std', 'mfcc std', 'rms std',\n",
       "       'spectral_centroid std', 'spec_bw std', 'spec_contrast std',\n",
       "       'flatness std', 'rolloff std', 'poly_0 std', 'poly_1 std', 'poly_2 std',\n",
       "       'tonnetz std', 'zero_crossing_rate std'],\n",
       "      dtype='object')"
      ]
     },
     "execution_count": 22,
     "metadata": {},
     "output_type": "execute_result"
    }
   ],
   "source": [
    "df.columns"
   ]
  },
  {
   "cell_type": "markdown",
   "id": "northern-assignment",
   "metadata": {},
   "source": [
    "Then we only use the features that we needed and save it as df1."
   ]
  },
  {
   "cell_type": "code",
   "execution_count": 4,
   "id": "comfortable-terminology",
   "metadata": {},
   "outputs": [],
   "source": [
    "df1 = df[[ 'y mean', 'y max', 'y min', 'chroma_stft min',\n",
    "       'chroma_stft mean', 'chroma_stft max', 'chroma_cqt min',\n",
    "       'chroma_cqt mean', 'chroma_cqt max', 'chroma_cens min',\n",
    "       'chroma_cens mean', 'chroma_cens max', 'melspectogram min',\n",
    "       'melspectogram mean', 'melspectogram max', 'mfcc min', 'mfcc mean',\n",
    "       'mfcc max', 'rms min', 'rms mean', 'rms max', 'spectral_centroid min',\n",
    "       'spectral_centroid mean', 'spectral_centroid max', 'spec_bw min',\n",
    "       'spec_bw mean', 'spec_bw max', 'spec_contrast min',\n",
    "       'spec_contrast mean', 'spec_contrast max', 'flatness min',\n",
    "       'flatness mean', 'flatness max', 'rolloff min', 'rolloff mean',\n",
    "       'rolloff max', 'poly_0 min', 'poly_0 mean', 'poly_0 max', 'poly_1 min',\n",
    "       'poly_1 mean', 'poly_1 max', 'poly_2 min', 'poly_2 mean', 'poly_2 max',\n",
    "       'tonnetz min', 'tonnetz mean', 'tonnetz max', 'zero_crossing_rate min',\n",
    "       'zero_crossing_rate mean', 'zero_crossing_rate max', 'y std',\n",
    "       'chroma_stft std', 'chroma_cqt std', 'chroma_cens std',\n",
    "       'melspectogram std', 'mfcc std', 'rms std', 'spectral_centroid std',\n",
    "       'spec_bw std', 'spec_contrast std', 'flatness std', 'rolloff std',\n",
    "       'poly_0 std', 'poly_1 std', 'poly_2 std', 'tonnetz std',\n",
    "       'zero_crossing_rate std']].copy()"
   ]
  },
  {
   "cell_type": "markdown",
   "id": "involved-douglas",
   "metadata": {},
   "source": [
    "And change the Status column to binary."
   ]
  },
  {
   "cell_type": "code",
   "execution_count": 5,
   "id": "expected-guest",
   "metadata": {},
   "outputs": [],
   "source": [
    "df['Status'].replace({'abnormal' : 1, 'normal' : 0}, inplace=True)"
   ]
  },
  {
   "cell_type": "markdown",
   "id": "desperate-cooper",
   "metadata": {},
   "source": [
    "We can clearly see here that there is an unbalance targets."
   ]
  },
  {
   "cell_type": "code",
   "execution_count": 6,
   "id": "informed-beads",
   "metadata": {},
   "outputs": [
    {
     "data": {
      "text/plain": [
       "0    11073\n",
       "1     1437\n",
       "Name: Status, dtype: int64"
      ]
     },
     "execution_count": 6,
     "metadata": {},
     "output_type": "execute_result"
    }
   ],
   "source": [
    "df['Status'].value_counts()"
   ]
  },
  {
   "cell_type": "markdown",
   "id": "excellent-nashville",
   "metadata": {},
   "source": [
    "Now we assign the df1 as the features (X) and the Status column as the target (y)."
   ]
  },
  {
   "cell_type": "code",
   "execution_count": 7,
   "id": "false-death",
   "metadata": {},
   "outputs": [
    {
     "data": {
      "text/plain": [
       "((12510, 68), (12510,))"
      ]
     },
     "execution_count": 7,
     "metadata": {},
     "output_type": "execute_result"
    }
   ],
   "source": [
    "X = df1.values\n",
    "y = df['Status'].values\n",
    "X.shape, y.shape"
   ]
  },
  {
   "cell_type": "markdown",
   "id": "humanitarian-highway",
   "metadata": {},
   "source": [
    "Now that we have the features and target, we can now divide the dataset to 3, training, test and validation set. "
   ]
  },
  {
   "cell_type": "markdown",
   "id": "seven-forge",
   "metadata": {},
   "source": [
    "### Divide the data into Training, Test and Validation Set"
   ]
  },
  {
   "cell_type": "markdown",
   "id": "authorized-robin",
   "metadata": {},
   "source": [
    "We will use the `train_test_split` from sklearn to divide the data to three sets.\n"
   ]
  },
  {
   "cell_type": "markdown",
   "id": "stunning-dialogue",
   "metadata": {},
   "source": [
    "We will take 10% of the data as the validation set."
   ]
  },
  {
   "cell_type": "code",
   "execution_count": 8,
   "id": "figured-volunteer",
   "metadata": {},
   "outputs": [],
   "source": [
    "X_model, X_validate, y_model, y_validate = train_test_split(X,y,test_size=0.1,random_state = 40)"
   ]
  },
  {
   "cell_type": "markdown",
   "id": "horizontal-generator",
   "metadata": {},
   "source": [
    "And then from the remaining 90% we get the 20% for the testing set. "
   ]
  },
  {
   "cell_type": "code",
   "execution_count": 9,
   "id": "rough-basket",
   "metadata": {},
   "outputs": [],
   "source": [
    "X_train, X_test, y_train, y_test = train_test_split(X_model,y_model,test_size=0.2,random_state = 40)"
   ]
  },
  {
   "cell_type": "markdown",
   "id": "modified-acting",
   "metadata": {},
   "source": [
    "Based from our exploration, `RandomForestClassifier` is best used for this classification model so here we named it as `rf` to create the model.  "
   ]
  },
  {
   "cell_type": "code",
   "execution_count": 10,
   "id": "chemical-fault",
   "metadata": {},
   "outputs": [
    {
     "data": {
      "text/plain": [
       "0.9507104795737122"
      ]
     },
     "execution_count": 10,
     "metadata": {},
     "output_type": "execute_result"
    }
   ],
   "source": [
    "rf = RandomForestClassifier(n_estimators=40)\n",
    "rf.fit(X_train, y_train)\n",
    "rf.score(X_test, y_test)"
   ]
  },
  {
   "cell_type": "markdown",
   "id": "demonstrated-swedish",
   "metadata": {},
   "source": [
    "Checking the classification report on the test set."
   ]
  },
  {
   "cell_type": "code",
   "execution_count": 23,
   "id": "heard-fantasy",
   "metadata": {},
   "outputs": [
    {
     "name": "stdout",
     "output_type": "stream",
     "text": [
      "              precision    recall  f1-score   support\n",
      "\n",
      "           0       0.97      0.99      0.98      1981\n",
      "           1       0.93      0.80      0.86       271\n",
      "\n",
      "    accuracy                           0.97      2252\n",
      "   macro avg       0.95      0.90      0.92      2252\n",
      "weighted avg       0.97      0.97      0.97      2252\n",
      "\n"
     ]
    }
   ],
   "source": [
    "y_pred = rf.predict(X_test)\n",
    "print(classification_report(y_test,y_pred))"
   ]
  },
  {
   "cell_type": "markdown",
   "id": "thorough-basics",
   "metadata": {},
   "source": [
    "Checking the classification report on the validation set."
   ]
  },
  {
   "cell_type": "code",
   "execution_count": 24,
   "id": "emotional-plumbing",
   "metadata": {},
   "outputs": [
    {
     "name": "stdout",
     "output_type": "stream",
     "text": [
      "              precision    recall  f1-score   support\n",
      "\n",
      "           0       0.98      0.99      0.98      1114\n",
      "           1       0.88      0.82      0.85       137\n",
      "\n",
      "    accuracy                           0.97      1251\n",
      "   macro avg       0.93      0.90      0.92      1251\n",
      "weighted avg       0.97      0.97      0.97      1251\n",
      "\n"
     ]
    }
   ],
   "source": [
    "validation_test = rf.predict(X_validate)\n",
    "print(classification_report(y_validate,validation_test))"
   ]
  },
  {
   "cell_type": "markdown",
   "id": "adjusted-meter",
   "metadata": {},
   "source": [
    "Plotting the feature importance to have a visual on the features."
   ]
  },
  {
   "cell_type": "code",
   "execution_count": 25,
   "id": "modern-trinidad",
   "metadata": {},
   "outputs": [
    {
     "name": "stdout",
     "output_type": "stream",
     "text": [
      "Feature: y mean, Score: 0.00351\n",
      "Feature: y max, Score: 0.07785\n",
      "Feature: y min, Score: 0.02962\n",
      "Feature: chroma_stft min, Score: 0.00667\n",
      "Feature: chroma_stft mean, Score: 0.00441\n",
      "Feature: chroma_stft max, Score: 0.00000\n",
      "Feature: chroma_cqt min, Score: 0.00352\n",
      "Feature: chroma_cqt mean, Score: 0.00413\n",
      "Feature: chroma_cqt max, Score: 0.00000\n",
      "Feature: chroma_cens min, Score: 0.00535\n",
      "Feature: chroma_cens mean, Score: 0.00415\n",
      "Feature: chroma_cens max, Score: 0.00391\n",
      "Feature: melspectogram min, Score: 0.00000\n",
      "Feature: melspectogram mean, Score: 0.01450\n",
      "Feature: melspectogram max, Score: 0.03225\n",
      "Feature: mfcc min, Score: 0.00477\n",
      "Feature: mfcc mean, Score: 0.00776\n",
      "Feature: mfcc max, Score: 0.00609\n",
      "Feature: rms min, Score: 0.00848\n",
      "Feature: rms mean, Score: 0.01193\n",
      "Feature: rms max, Score: 0.04484\n",
      "Feature: spectral_centroid min, Score: 0.00445\n",
      "Feature: spectral_centroid mean, Score: 0.00501\n",
      "Feature: spectral_centroid max, Score: 0.02834\n",
      "Feature: spec_bw min, Score: 0.00516\n",
      "Feature: spec_bw mean, Score: 0.00451\n",
      "Feature: spec_bw max, Score: 0.03173\n",
      "Feature: spec_contrast min, Score: 0.00471\n",
      "Feature: spec_contrast mean, Score: 0.00538\n",
      "Feature: spec_contrast max, Score: 0.05090\n",
      "Feature: flatness min, Score: 0.00506\n",
      "Feature: flatness mean, Score: 0.00545\n",
      "Feature: flatness max, Score: 0.00451\n",
      "Feature: rolloff min, Score: 0.00496\n",
      "Feature: rolloff mean, Score: 0.00404\n",
      "Feature: rolloff max, Score: 0.07805\n",
      "Feature: poly_0 min, Score: 0.00554\n",
      "Feature: poly_0 mean, Score: 0.00711\n",
      "Feature: poly_0 max, Score: 0.08653\n",
      "Feature: poly_1 min, Score: 0.01620\n",
      "Feature: poly_1 mean, Score: 0.00850\n",
      "Feature: poly_1 max, Score: 0.04846\n",
      "Feature: poly_2 min, Score: 0.00997\n",
      "Feature: poly_2 mean, Score: 0.00804\n",
      "Feature: poly_2 max, Score: 0.01489\n",
      "Feature: tonnetz min, Score: 0.00441\n",
      "Feature: tonnetz mean, Score: 0.00741\n",
      "Feature: tonnetz max, Score: 0.00473\n",
      "Feature: zero_crossing_rate min, Score: 0.00420\n",
      "Feature: zero_crossing_rate mean, Score: 0.00515\n",
      "Feature: zero_crossing_rate max, Score: 0.01822\n",
      "Feature: y std, Score: 0.01560\n",
      "Feature: chroma_stft std, Score: 0.00446\n",
      "Feature: chroma_cqt std, Score: 0.00381\n",
      "Feature: chroma_cens std, Score: 0.00453\n",
      "Feature: melspectogram std, Score: 0.01465\n",
      "Feature: mfcc std, Score: 0.00607\n",
      "Feature: rms std, Score: 0.03435\n",
      "Feature: spectral_centroid std, Score: 0.01102\n",
      "Feature: spec_bw std, Score: 0.00799\n",
      "Feature: spec_contrast std, Score: 0.00535\n",
      "Feature: flatness std, Score: 0.00594\n",
      "Feature: rolloff std, Score: 0.00798\n",
      "Feature: poly_0 std, Score: 0.06373\n",
      "Feature: poly_1 std, Score: 0.01723\n",
      "Feature: poly_2 std, Score: 0.00846\n",
      "Feature: tonnetz std, Score: 0.00490\n",
      "Feature: zero_crossing_rate std, Score: 0.01861\n"
     ]
    },
    {
     "data": {
      "image/png": "[encoded data removed]",
      "text/plain": [
       "<Figure size 432x288 with 1 Axes>"
      ]
     },
     "metadata": {
      "needs_background": "light"
     },
     "output_type": "display_data"
    }
   ],
   "source": [
    "from matplotlib import pyplot\n",
    "importance = rf.feature_importances_\n",
    "for i,v in enumerate(importance):\n",
    "    print(f'Feature: {df1.columns[i]}, Score: {v:.5f}')\n",
    "pyplot.bar([x for x in range(len(importance))], importance)\n",
    "pyplot.show()"
   ]
  },
  {
   "cell_type": "markdown",
   "id": "unusual-river",
   "metadata": {},
   "source": [
    "### Resampling the data using SMOTE"
   ]
  },
  {
   "cell_type": "markdown",
   "id": "laden-advertiser",
   "metadata": {},
   "source": [
    "Trying to do oversampling using SMOTE to even the number of normal and abnormal on the target."
   ]
  },
  {
   "cell_type": "code",
   "execution_count": 26,
   "id": "protecting-klein",
   "metadata": {},
   "outputs": [],
   "source": [
    "sm = SMOTE(random_state=12)\n",
    "X_train_res, y_train_res = sm.fit_resample(X_train, y_train)"
   ]
  },
  {
   "cell_type": "markdown",
   "id": "agreed-grounds",
   "metadata": {},
   "source": [
    "Then use again the `RandomForestClassifier` to train the model."
   ]
  },
  {
   "cell_type": "code",
   "execution_count": 28,
   "id": "stylish-martial",
   "metadata": {},
   "outputs": [
    {
     "data": {
      "text/plain": [
       "0.9671403197158082"
      ]
     },
     "execution_count": 28,
     "metadata": {},
     "output_type": "execute_result"
    }
   ],
   "source": [
    "rf = RandomForestClassifier(n_estimators=40)\n",
    "rf.fit(X_train_res, y_train_res)\n",
    "rf.score(X_test, y_test)"
   ]
  },
  {
   "cell_type": "markdown",
   "id": "regional-nicholas",
   "metadata": {},
   "source": [
    "Checking the predictions on the `X_test`."
   ]
  },
  {
   "cell_type": "code",
   "execution_count": 29,
   "id": "stuffed-fetish",
   "metadata": {},
   "outputs": [],
   "source": [
    "y_test_pred = rf.predict(X_test)"
   ]
  },
  {
   "cell_type": "markdown",
   "id": "adapted-printing",
   "metadata": {},
   "source": [
    "Checking the True Positive and True Negative using `pd.crosstab` for the test dataset predictions."
   ]
  },
  {
   "cell_type": "code",
   "execution_count": 30,
   "id": "consecutive-sunset",
   "metadata": {},
   "outputs": [
    {
     "data": {
      "text/html": [
       "<div>\n",
       "<style scoped>\n",
       "    .dataframe tbody tr th:only-of-type {\n",
       "        vertical-align: middle;\n",
       "    }\n",
       "\n",
       "    .dataframe tbody tr th {\n",
       "        vertical-align: top;\n",
       "    }\n",
       "\n",
       "    .dataframe thead th {\n",
       "        text-align: right;\n",
       "    }\n",
       "</style>\n",
       "<table border=\"1\" class=\"dataframe\">\n",
       "  <thead>\n",
       "    <tr style=\"text-align: right;\">\n",
       "      <th>Actual</th>\n",
       "      <th>0</th>\n",
       "      <th>1</th>\n",
       "    </tr>\n",
       "    <tr>\n",
       "      <th>Predicted</th>\n",
       "      <th></th>\n",
       "      <th></th>\n",
       "    </tr>\n",
       "  </thead>\n",
       "  <tbody>\n",
       "    <tr>\n",
       "      <th>0</th>\n",
       "      <td>1959</td>\n",
       "      <td>52</td>\n",
       "    </tr>\n",
       "    <tr>\n",
       "      <th>1</th>\n",
       "      <td>22</td>\n",
       "      <td>219</td>\n",
       "    </tr>\n",
       "  </tbody>\n",
       "</table>\n",
       "</div>"
      ],
      "text/plain": [
       "Actual        0    1\n",
       "Predicted           \n",
       "0          1959   52\n",
       "1            22  219"
      ]
     },
     "execution_count": 30,
     "metadata": {},
     "output_type": "execute_result"
    }
   ],
   "source": [
    "pd.crosstab(pd.Series(y_test_pred, name = 'Predicted'),\n",
    "           pd.Series(y_test, name='Actual'))"
   ]
  },
  {
   "cell_type": "markdown",
   "id": "hungarian-perry",
   "metadata": {},
   "source": [
    "Printing the classification report on the test data set. "
   ]
  },
  {
   "cell_type": "code",
   "execution_count": 32,
   "id": "casual-enclosure",
   "metadata": {},
   "outputs": [
    {
     "name": "stdout",
     "output_type": "stream",
     "text": [
      "              precision    recall  f1-score   support\n",
      "\n",
      "           0       0.97      0.99      0.98      1981\n",
      "           1       0.91      0.81      0.86       271\n",
      "\n",
      "    accuracy                           0.97      2252\n",
      "   macro avg       0.94      0.90      0.92      2252\n",
      "weighted avg       0.97      0.97      0.97      2252\n",
      "\n"
     ]
    }
   ],
   "source": [
    "print(classification_report(y_test,y_test_pred))"
   ]
  },
  {
   "cell_type": "markdown",
   "id": "continuing-validation",
   "metadata": {},
   "source": [
    "Now let us check the model on the validation set."
   ]
  },
  {
   "cell_type": "code",
   "execution_count": 17,
   "id": "scheduled-national",
   "metadata": {},
   "outputs": [],
   "source": [
    "validation_set = rf.predict(X_validate)"
   ]
  },
  {
   "cell_type": "markdown",
   "id": "agreed-permit",
   "metadata": {},
   "source": [
    "Then also check the True Positive and True Negative for the validation set. "
   ]
  },
  {
   "cell_type": "code",
   "execution_count": 33,
   "id": "equipped-somerset",
   "metadata": {},
   "outputs": [
    {
     "name": "stdout",
     "output_type": "stream",
     "text": [
      "              precision    recall  f1-score   support\n",
      "\n",
      "           0       0.98      0.99      0.98      1114\n",
      "           1       0.88      0.82      0.85       137\n",
      "\n",
      "    accuracy                           0.97      1251\n",
      "   macro avg       0.93      0.90      0.92      1251\n",
      "weighted avg       0.97      0.97      0.97      1251\n",
      "\n"
     ]
    }
   ],
   "source": [
    "print(classification_report(y_validate,validation_set))"
   ]
  },
  {
   "cell_type": "markdown",
   "id": "stunning-headline",
   "metadata": {},
   "source": [
    "Then save the model using `pickle.dump()` function."
   ]
  },
  {
   "cell_type": "code",
   "execution_count": 35,
   "id": "animated-rating",
   "metadata": {},
   "outputs": [],
   "source": [
    "filename = '../Models/valve_model.sav'\n",
    "pickle.dump(rf, open(filename, 'wb'))"
   ]
  },
  {
   "cell_type": "markdown",
   "id": "essential-czech",
   "metadata": {},
   "source": [
    "And now we have the model for valve. :)"
   ]
  }
 ],
 "metadata": {
  "kernelspec": {
   "display_name": "Python 3",
   "language": "python",
   "name": "python3"
  },
  "language_info": {
   "codemirror_mode": {
    "name": "ipython",
    "version": 3
   },
   "file_extension": ".py",
   "mimetype": "text/x-python",
   "name": "python",
   "nbconvert_exporter": "python",
   "pygments_lexer": "ipython3",
   "version": "3.9.2"
  }
 },
 "nbformat": 4,
 "nbformat_minor": 5
}

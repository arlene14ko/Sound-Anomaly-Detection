{
 "cells": [
  {
   "cell_type": "markdown",
   "id": "humanitarian-advertiser",
   "metadata": {},
   "source": [
    "# Slider Classification Model\n"
   ]
  },
  {
   "cell_type": "markdown",
   "id": "cathedral-recovery",
   "metadata": {},
   "source": [
    "A jupyter notebook to create the classification model for the slider"
   ]
  },
  {
   "cell_type": "markdown",
   "id": "early-benjamin",
   "metadata": {},
   "source": [
    "### Getting the dataset"
   ]
  },
  {
   "cell_type": "markdown",
   "id": "established-scoop",
   "metadata": {},
   "source": [
    "First is to import the necessary libraries needed"
   ]
  },
  {
   "cell_type": "code",
   "execution_count": 67,
   "id": "straight-hampshire",
   "metadata": {},
   "outputs": [],
   "source": [
    "import numpy as np\n",
    "import pandas as pd\n",
    "import matplotlib.pyplot as plt\n",
    "from sklearn.model_selection import train_test_split\n",
    "from sklearn.ensemble import RandomForestClassifier\n",
    "import pickle\n",
    "from sklearn.metrics import classification_report\n",
    "from imblearn.over_sampling import SMOTE\n",
    "from matplotlib import pyplot"
   ]
  },
  {
   "cell_type": "markdown",
   "id": "little-london",
   "metadata": {},
   "source": [
    "Then import the dataset. This dataset was extracted from the sound files."
   ]
  },
  {
   "cell_type": "code",
   "execution_count": 68,
   "id": "prime-feeling",
   "metadata": {},
   "outputs": [],
   "source": [
    "df = pd.read_csv('Datasets/slider_full_features.csv')"
   ]
  },
  {
   "cell_type": "code",
   "execution_count": 105,
   "id": "collective-ethiopia",
   "metadata": {},
   "outputs": [
    {
     "data": {
      "text/plain": [
       "(12282, 75)"
      ]
     },
     "execution_count": 105,
     "metadata": {},
     "output_type": "execute_result"
    }
   ],
   "source": [
    "df.shape"
   ]
  },
  {
   "cell_type": "code",
   "execution_count": 107,
   "id": "progressive-registration",
   "metadata": {},
   "outputs": [
    {
     "data": {
      "text/html": [
       "<div>\n",
       "<style scoped>\n",
       "    .dataframe tbody tr th:only-of-type {\n",
       "        vertical-align: middle;\n",
       "    }\n",
       "\n",
       "    .dataframe tbody tr th {\n",
       "        vertical-align: top;\n",
       "    }\n",
       "\n",
       "    .dataframe thead th {\n",
       "        text-align: right;\n",
       "    }\n",
       "</style>\n",
       "<table border=\"1\" class=\"dataframe\">\n",
       "  <thead>\n",
       "    <tr style=\"text-align: right;\">\n",
       "      <th></th>\n",
       "      <th>Unnamed: 0</th>\n",
       "      <th>Status</th>\n",
       "      <th>SR</th>\n",
       "      <th>y mean</th>\n",
       "      <th>y max</th>\n",
       "      <th>y min</th>\n",
       "      <th>chroma_stft min</th>\n",
       "      <th>chroma_stft mean</th>\n",
       "      <th>chroma_stft max</th>\n",
       "      <th>chroma_cqt min</th>\n",
       "      <th>...</th>\n",
       "      <th>spectral_centroid std</th>\n",
       "      <th>spec_bw std</th>\n",
       "      <th>spec_contrast std</th>\n",
       "      <th>flatness std</th>\n",
       "      <th>rolloff std</th>\n",
       "      <th>poly_0 std</th>\n",
       "      <th>poly_1 std</th>\n",
       "      <th>poly_2 std</th>\n",
       "      <th>tonnetz std</th>\n",
       "      <th>zero_crossing_rate std</th>\n",
       "    </tr>\n",
       "  </thead>\n",
       "  <tbody>\n",
       "    <tr>\n",
       "      <th>count</th>\n",
       "      <td>12282.000000</td>\n",
       "      <td>12282.000000</td>\n",
       "      <td>12282.0</td>\n",
       "      <td>1.228200e+04</td>\n",
       "      <td>12282.000000</td>\n",
       "      <td>12282.000000</td>\n",
       "      <td>12282.000000</td>\n",
       "      <td>12282.000000</td>\n",
       "      <td>12282.0</td>\n",
       "      <td>12282.000000</td>\n",
       "      <td>...</td>\n",
       "      <td>12282.000000</td>\n",
       "      <td>12282.000000</td>\n",
       "      <td>12282.000000</td>\n",
       "      <td>12282.000000</td>\n",
       "      <td>12282.000000</td>\n",
       "      <td>12282.000000</td>\n",
       "      <td>12282.000000</td>\n",
       "      <td>12282.000000</td>\n",
       "      <td>12282.000000</td>\n",
       "      <td>12282.000000</td>\n",
       "    </tr>\n",
       "    <tr>\n",
       "      <th>mean</th>\n",
       "      <td>2046.500000</td>\n",
       "      <td>0.217391</td>\n",
       "      <td>22050.0</td>\n",
       "      <td>-2.869167e-07</td>\n",
       "      <td>0.032880</td>\n",
       "      <td>-0.032640</td>\n",
       "      <td>0.040161</td>\n",
       "      <td>0.423093</td>\n",
       "      <td>1.0</td>\n",
       "      <td>0.190376</td>\n",
       "      <td>...</td>\n",
       "      <td>262.754317</td>\n",
       "      <td>162.362467</td>\n",
       "      <td>18.163170</td>\n",
       "      <td>0.000482</td>\n",
       "      <td>626.037053</td>\n",
       "      <td>0.012605</td>\n",
       "      <td>0.098316</td>\n",
       "      <td>0.155364</td>\n",
       "      <td>0.053444</td>\n",
       "      <td>0.022289</td>\n",
       "    </tr>\n",
       "    <tr>\n",
       "      <th>std</th>\n",
       "      <td>1181.884081</td>\n",
       "      <td>0.412488</td>\n",
       "      <td>0.0</td>\n",
       "      <td>2.191255e-06</td>\n",
       "      <td>0.011141</td>\n",
       "      <td>0.011699</td>\n",
       "      <td>0.035329</td>\n",
       "      <td>0.123739</td>\n",
       "      <td>0.0</td>\n",
       "      <td>0.049660</td>\n",
       "      <td>...</td>\n",
       "      <td>198.152312</td>\n",
       "      <td>111.273047</td>\n",
       "      <td>1.135607</td>\n",
       "      <td>0.000406</td>\n",
       "      <td>439.223381</td>\n",
       "      <td>0.008107</td>\n",
       "      <td>0.040434</td>\n",
       "      <td>0.065976</td>\n",
       "      <td>0.018114</td>\n",
       "      <td>0.018094</td>\n",
       "    </tr>\n",
       "    <tr>\n",
       "      <th>min</th>\n",
       "      <td>0.000000</td>\n",
       "      <td>0.000000</td>\n",
       "      <td>22050.0</td>\n",
       "      <td>-1.262625e-05</td>\n",
       "      <td>0.013023</td>\n",
       "      <td>-0.147516</td>\n",
       "      <td>0.000474</td>\n",
       "      <td>0.161258</td>\n",
       "      <td>1.0</td>\n",
       "      <td>0.048784</td>\n",
       "      <td>...</td>\n",
       "      <td>38.402975</td>\n",
       "      <td>24.678135</td>\n",
       "      <td>14.422652</td>\n",
       "      <td>0.000014</td>\n",
       "      <td>87.599978</td>\n",
       "      <td>0.003521</td>\n",
       "      <td>0.034216</td>\n",
       "      <td>0.045802</td>\n",
       "      <td>0.027556</td>\n",
       "      <td>0.003475</td>\n",
       "    </tr>\n",
       "    <tr>\n",
       "      <th>25%</th>\n",
       "      <td>1023.000000</td>\n",
       "      <td>0.000000</td>\n",
       "      <td>22050.0</td>\n",
       "      <td>-1.438850e-06</td>\n",
       "      <td>0.024331</td>\n",
       "      <td>-0.040918</td>\n",
       "      <td>0.013067</td>\n",
       "      <td>0.314927</td>\n",
       "      <td>1.0</td>\n",
       "      <td>0.155538</td>\n",
       "      <td>...</td>\n",
       "      <td>87.647937</td>\n",
       "      <td>63.541426</td>\n",
       "      <td>17.383351</td>\n",
       "      <td>0.000207</td>\n",
       "      <td>241.466701</td>\n",
       "      <td>0.005677</td>\n",
       "      <td>0.063449</td>\n",
       "      <td>0.100066</td>\n",
       "      <td>0.040290</td>\n",
       "      <td>0.008072</td>\n",
       "    </tr>\n",
       "    <tr>\n",
       "      <th>50%</th>\n",
       "      <td>2046.500000</td>\n",
       "      <td>0.000000</td>\n",
       "      <td>22050.0</td>\n",
       "      <td>-2.384596e-07</td>\n",
       "      <td>0.030220</td>\n",
       "      <td>-0.030086</td>\n",
       "      <td>0.025282</td>\n",
       "      <td>0.406755</td>\n",
       "      <td>1.0</td>\n",
       "      <td>0.192532</td>\n",
       "      <td>...</td>\n",
       "      <td>204.185917</td>\n",
       "      <td>126.087214</td>\n",
       "      <td>18.339175</td>\n",
       "      <td>0.000362</td>\n",
       "      <td>485.896593</td>\n",
       "      <td>0.011611</td>\n",
       "      <td>0.086601</td>\n",
       "      <td>0.136547</td>\n",
       "      <td>0.048847</td>\n",
       "      <td>0.016320</td>\n",
       "    </tr>\n",
       "    <tr>\n",
       "      <th>75%</th>\n",
       "      <td>3070.000000</td>\n",
       "      <td>0.000000</td>\n",
       "      <td>22050.0</td>\n",
       "      <td>9.149385e-07</td>\n",
       "      <td>0.040833</td>\n",
       "      <td>-0.023497</td>\n",
       "      <td>0.060748</td>\n",
       "      <td>0.542117</td>\n",
       "      <td>1.0</td>\n",
       "      <td>0.224483</td>\n",
       "      <td>...</td>\n",
       "      <td>406.082208</td>\n",
       "      <td>245.934736</td>\n",
       "      <td>19.027006</td>\n",
       "      <td>0.000615</td>\n",
       "      <td>973.601219</td>\n",
       "      <td>0.016857</td>\n",
       "      <td>0.132904</td>\n",
       "      <td>0.216633</td>\n",
       "      <td>0.062568</td>\n",
       "      <td>0.030326</td>\n",
       "    </tr>\n",
       "    <tr>\n",
       "      <th>max</th>\n",
       "      <td>4093.000000</td>\n",
       "      <td>1.000000</td>\n",
       "      <td>22050.0</td>\n",
       "      <td>1.140974e-05</td>\n",
       "      <td>0.164791</td>\n",
       "      <td>-0.013447</td>\n",
       "      <td>0.259311</td>\n",
       "      <td>0.708442</td>\n",
       "      <td>1.0</td>\n",
       "      <td>0.363391</td>\n",
       "      <td>...</td>\n",
       "      <td>960.871508</td>\n",
       "      <td>571.091061</td>\n",
       "      <td>21.694131</td>\n",
       "      <td>0.004642</td>\n",
       "      <td>2114.975078</td>\n",
       "      <td>0.070279</td>\n",
       "      <td>0.236579</td>\n",
       "      <td>0.368078</td>\n",
       "      <td>0.162714</td>\n",
       "      <td>0.096145</td>\n",
       "    </tr>\n",
       "  </tbody>\n",
       "</table>\n",
       "<p>8 rows × 71 columns</p>\n",
       "</div>"
      ],
      "text/plain": [
       "         Unnamed: 0        Status       SR        y mean         y max  \\\n",
       "count  12282.000000  12282.000000  12282.0  1.228200e+04  12282.000000   \n",
       "mean    2046.500000      0.217391  22050.0 -2.869167e-07      0.032880   \n",
       "std     1181.884081      0.412488      0.0  2.191255e-06      0.011141   \n",
       "min        0.000000      0.000000  22050.0 -1.262625e-05      0.013023   \n",
       "25%     1023.000000      0.000000  22050.0 -1.438850e-06      0.024331   \n",
       "50%     2046.500000      0.000000  22050.0 -2.384596e-07      0.030220   \n",
       "75%     3070.000000      0.000000  22050.0  9.149385e-07      0.040833   \n",
       "max     4093.000000      1.000000  22050.0  1.140974e-05      0.164791   \n",
       "\n",
       "              y min  chroma_stft min  chroma_stft mean  chroma_stft max  \\\n",
       "count  12282.000000     12282.000000      12282.000000          12282.0   \n",
       "mean      -0.032640         0.040161          0.423093              1.0   \n",
       "std        0.011699         0.035329          0.123739              0.0   \n",
       "min       -0.147516         0.000474          0.161258              1.0   \n",
       "25%       -0.040918         0.013067          0.314927              1.0   \n",
       "50%       -0.030086         0.025282          0.406755              1.0   \n",
       "75%       -0.023497         0.060748          0.542117              1.0   \n",
       "max       -0.013447         0.259311          0.708442              1.0   \n",
       "\n",
       "       chroma_cqt min  ...  spectral_centroid std   spec_bw std  \\\n",
       "count    12282.000000  ...           12282.000000  12282.000000   \n",
       "mean         0.190376  ...             262.754317    162.362467   \n",
       "std          0.049660  ...             198.152312    111.273047   \n",
       "min          0.048784  ...              38.402975     24.678135   \n",
       "25%          0.155538  ...              87.647937     63.541426   \n",
       "50%          0.192532  ...             204.185917    126.087214   \n",
       "75%          0.224483  ...             406.082208    245.934736   \n",
       "max          0.363391  ...             960.871508    571.091061   \n",
       "\n",
       "       spec_contrast std  flatness std   rolloff std    poly_0 std  \\\n",
       "count       12282.000000  12282.000000  12282.000000  12282.000000   \n",
       "mean           18.163170      0.000482    626.037053      0.012605   \n",
       "std             1.135607      0.000406    439.223381      0.008107   \n",
       "min            14.422652      0.000014     87.599978      0.003521   \n",
       "25%            17.383351      0.000207    241.466701      0.005677   \n",
       "50%            18.339175      0.000362    485.896593      0.011611   \n",
       "75%            19.027006      0.000615    973.601219      0.016857   \n",
       "max            21.694131      0.004642   2114.975078      0.070279   \n",
       "\n",
       "         poly_1 std    poly_2 std   tonnetz std  zero_crossing_rate std  \n",
       "count  12282.000000  12282.000000  12282.000000            12282.000000  \n",
       "mean       0.098316      0.155364      0.053444                0.022289  \n",
       "std        0.040434      0.065976      0.018114                0.018094  \n",
       "min        0.034216      0.045802      0.027556                0.003475  \n",
       "25%        0.063449      0.100066      0.040290                0.008072  \n",
       "50%        0.086601      0.136547      0.048847                0.016320  \n",
       "75%        0.132904      0.216633      0.062568                0.030326  \n",
       "max        0.236579      0.368078      0.162714                0.096145  \n",
       "\n",
       "[8 rows x 71 columns]"
      ]
     },
     "execution_count": 107,
     "metadata": {},
     "output_type": "execute_result"
    }
   ],
   "source": [
    "df.describe()"
   ]
  },
  {
   "cell_type": "markdown",
   "id": "surprising-kenya",
   "metadata": {},
   "source": [
    "Then we only use the features that we needed and save it as df1."
   ]
  },
  {
   "cell_type": "code",
   "execution_count": 70,
   "id": "vital-transcript",
   "metadata": {},
   "outputs": [],
   "source": [
    "df1 = df[[ 'y mean', 'y max', 'y min', 'chroma_stft min',\n",
    "       'chroma_stft mean', 'chroma_stft max', 'chroma_cqt min',\n",
    "       'chroma_cqt mean', 'chroma_cqt max', 'chroma_cens min',\n",
    "       'chroma_cens mean', 'chroma_cens max', 'melspectogram min',\n",
    "       'melspectogram mean', 'melspectogram max', 'mfcc min', 'mfcc mean',\n",
    "       'mfcc max', 'rms min', 'rms mean', 'rms max', 'spectral_centroid min',\n",
    "       'spectral_centroid mean', 'spectral_centroid max', 'spec_bw min',\n",
    "       'spec_bw mean', 'spec_bw max', 'spec_contrast min',\n",
    "       'spec_contrast mean', 'spec_contrast max', 'flatness min',\n",
    "       'flatness mean', 'flatness max', 'rolloff min', 'rolloff mean',\n",
    "       'rolloff max', 'poly_0 min', 'poly_0 mean', 'poly_0 max', 'poly_1 min',\n",
    "       'poly_1 mean', 'poly_1 max', 'poly_2 min', 'poly_2 mean', 'poly_2 max',\n",
    "       'tonnetz min', 'tonnetz mean', 'tonnetz max', 'zero_crossing_rate min',\n",
    "       'zero_crossing_rate mean', 'zero_crossing_rate max', 'y std',\n",
    "       'chroma_stft std', 'chroma_cqt std', 'chroma_cens std',\n",
    "       'melspectogram std', 'mfcc std', 'rms std', 'spectral_centroid std',\n",
    "       'spec_bw std', 'spec_contrast std', 'flatness std', 'rolloff std',\n",
    "       'poly_0 std', 'poly_1 std', 'poly_2 std', 'tonnetz std',\n",
    "       'zero_crossing_rate std']].copy()"
   ]
  },
  {
   "cell_type": "markdown",
   "id": "suburban-discrimination",
   "metadata": {},
   "source": [
    "And change the Status column to binary."
   ]
  },
  {
   "cell_type": "code",
   "execution_count": 119,
   "id": "pointed-corporation",
   "metadata": {},
   "outputs": [],
   "source": [
    "df['Status'].replace({'abnormal' : 1, 'normal' : 0}, inplace=True)"
   ]
  },
  {
   "cell_type": "markdown",
   "id": "adequate-fellowship",
   "metadata": {},
   "source": [
    "We can clearly see here that there is an unbalance targets."
   ]
  },
  {
   "cell_type": "code",
   "execution_count": 120,
   "id": "duplicate-characterization",
   "metadata": {},
   "outputs": [
    {
     "data": {
      "text/plain": [
       "0    9612\n",
       "1    2670\n",
       "Name: Status, dtype: int64"
      ]
     },
     "execution_count": 120,
     "metadata": {},
     "output_type": "execute_result"
    }
   ],
   "source": [
    "df['Status'].value_counts()"
   ]
  },
  {
   "cell_type": "markdown",
   "id": "protecting-livestock",
   "metadata": {},
   "source": [
    "Now we assign the df1 as the features (X) and the Status column as the target (y)."
   ]
  },
  {
   "cell_type": "code",
   "execution_count": 121,
   "id": "conservative-modification",
   "metadata": {},
   "outputs": [
    {
     "data": {
      "text/plain": [
       "((12282, 68), (12282,))"
      ]
     },
     "execution_count": 121,
     "metadata": {},
     "output_type": "execute_result"
    }
   ],
   "source": [
    "X = df1.values\n",
    "y = df['Status'].values\n",
    "X.shape, y.shape"
   ]
  },
  {
   "cell_type": "markdown",
   "id": "covered-cemetery",
   "metadata": {},
   "source": [
    "Now that we have the features and target, we can now divide the dataset to 3, training, test and validation set. "
   ]
  },
  {
   "cell_type": "markdown",
   "id": "addressed-circular",
   "metadata": {},
   "source": [
    "### Divide the data into Training, Test and Validation Set"
   ]
  },
  {
   "cell_type": "markdown",
   "id": "incomplete-transcription",
   "metadata": {},
   "source": [
    "We will use the `train_test_split` from sklearn to divide the data to three sets.\n"
   ]
  },
  {
   "cell_type": "markdown",
   "id": "warming-plain",
   "metadata": {},
   "source": [
    "We will take 10% of the data as the validation set."
   ]
  },
  {
   "cell_type": "code",
   "execution_count": 122,
   "id": "flying-movie",
   "metadata": {},
   "outputs": [],
   "source": [
    "X_model, X_validate, y_model, y_validate = train_test_split(X,y,test_size=0.1,random_state = 40)"
   ]
  },
  {
   "cell_type": "markdown",
   "id": "roman-caribbean",
   "metadata": {},
   "source": [
    "And then from the remaining 90% we get the 20% for the testing set. "
   ]
  },
  {
   "cell_type": "code",
   "execution_count": 123,
   "id": "theoretical-server",
   "metadata": {},
   "outputs": [],
   "source": [
    "X_train, X_test, y_train, y_test = train_test_split(X_model,y_model,test_size=0.2,random_state = 40)"
   ]
  },
  {
   "cell_type": "markdown",
   "id": "primary-johnson",
   "metadata": {},
   "source": [
    "Based from our exploration, `RandomForestClassifier` is best used for this classification model so here we named it as `rf` to create the model.  "
   ]
  },
  {
   "cell_type": "code",
   "execution_count": 127,
   "id": "junior-happening",
   "metadata": {},
   "outputs": [
    {
     "data": {
      "text/plain": [
       "0.9638172772501131"
      ]
     },
     "execution_count": 127,
     "metadata": {},
     "output_type": "execute_result"
    }
   ],
   "source": [
    "rf = RandomForestClassifier(n_estimators=40)\n",
    "rf.fit(X_train, y_train)\n",
    "rf.score(X_test, y_test)"
   ]
  },
  {
   "cell_type": "markdown",
   "id": "mechanical-store",
   "metadata": {},
   "source": [
    "Checking the classification report on the test set."
   ]
  },
  {
   "cell_type": "code",
   "execution_count": 128,
   "id": "ancient-removal",
   "metadata": {},
   "outputs": [
    {
     "name": "stdout",
     "output_type": "stream",
     "text": [
      "              precision    recall  f1-score   support\n",
      "\n",
      "           0       0.96      1.00      0.98      1716\n",
      "           1       0.98      0.85      0.91       495\n",
      "\n",
      "    accuracy                           0.96      2211\n",
      "   macro avg       0.97      0.92      0.95      2211\n",
      "weighted avg       0.96      0.96      0.96      2211\n",
      "\n"
     ]
    }
   ],
   "source": [
    "y_pred = rf.predict(X_test)\n",
    "print(classification_report(y_test,y_pred))"
   ]
  },
  {
   "cell_type": "markdown",
   "id": "demanding-technician",
   "metadata": {},
   "source": [
    "Checking the classification report on the validation set."
   ]
  },
  {
   "cell_type": "code",
   "execution_count": 83,
   "id": "handed-rachel",
   "metadata": {},
   "outputs": [
    {
     "name": "stdout",
     "output_type": "stream",
     "text": [
      "              precision    recall  f1-score   support\n",
      "\n",
      "           0       0.97      0.99      0.98       967\n",
      "           1       0.97      0.88      0.92       262\n",
      "\n",
      "    accuracy                           0.97      1229\n",
      "   macro avg       0.97      0.94      0.95      1229\n",
      "weighted avg       0.97      0.97      0.97      1229\n",
      "\n"
     ]
    }
   ],
   "source": [
    "print(classification_report(y_validate,validation_test))"
   ]
  },
  {
   "cell_type": "markdown",
   "id": "binding-field",
   "metadata": {},
   "source": [
    "Saving the model using the pickle library"
   ]
  },
  {
   "cell_type": "code",
   "execution_count": 49,
   "id": "ideal-classics",
   "metadata": {},
   "outputs": [],
   "source": [
    "filename = 'Models/slider_full.sav'\n",
    "pickle.dump(rf, open(filename, 'wb'))"
   ]
  },
  {
   "cell_type": "markdown",
   "id": "transparent-salvation",
   "metadata": {},
   "source": [
    "Plotting the feature importance to have a visual on the features."
   ]
  },
  {
   "cell_type": "code",
   "execution_count": 130,
   "id": "cheap-metadata",
   "metadata": {},
   "outputs": [
    {
     "name": "stdout",
     "output_type": "stream",
     "text": [
      "Feature: y mean, Score: 0.00285\n",
      "Feature: y max, Score: 0.00938\n",
      "Feature: y min, Score: 0.02201\n",
      "Feature: chroma_stft min, Score: 0.00518\n",
      "Feature: chroma_stft mean, Score: 0.01126\n",
      "Feature: chroma_stft max, Score: 0.00000\n",
      "Feature: chroma_cqt min, Score: 0.00429\n",
      "Feature: chroma_cqt mean, Score: 0.01206\n",
      "Feature: chroma_cqt max, Score: 0.00000\n",
      "Feature: chroma_cens min, Score: 0.00446\n",
      "Feature: chroma_cens mean, Score: 0.00429\n",
      "Feature: chroma_cens max, Score: 0.00485\n",
      "Feature: melspectogram min, Score: 0.00000\n",
      "Feature: melspectogram mean, Score: 0.02095\n",
      "Feature: melspectogram max, Score: 0.01899\n",
      "Feature: mfcc min, Score: 0.00685\n",
      "Feature: mfcc mean, Score: 0.00914\n",
      "Feature: mfcc max, Score: 0.00680\n",
      "Feature: rms min, Score: 0.00637\n",
      "Feature: rms mean, Score: 0.01999\n",
      "Feature: rms max, Score: 0.01351\n",
      "Feature: spectral_centroid min, Score: 0.00428\n",
      "Feature: spectral_centroid mean, Score: 0.02385\n",
      "Feature: spectral_centroid max, Score: 0.02564\n",
      "Feature: spec_bw min, Score: 0.00539\n",
      "Feature: spec_bw mean, Score: 0.03478\n",
      "Feature: spec_bw max, Score: 0.03602\n",
      "Feature: spec_contrast min, Score: 0.00513\n",
      "Feature: spec_contrast mean, Score: 0.02214\n",
      "Feature: spec_contrast max, Score: 0.02382\n",
      "Feature: flatness min, Score: 0.00572\n",
      "Feature: flatness mean, Score: 0.01133\n",
      "Feature: flatness max, Score: 0.00450\n",
      "Feature: rolloff min, Score: 0.00618\n",
      "Feature: rolloff mean, Score: 0.04011\n",
      "Feature: rolloff max, Score: 0.04168\n",
      "Feature: poly_0 min, Score: 0.00478\n",
      "Feature: poly_0 mean, Score: 0.01948\n",
      "Feature: poly_0 max, Score: 0.01640\n",
      "Feature: poly_1 min, Score: 0.00957\n",
      "Feature: poly_1 mean, Score: 0.01389\n",
      "Feature: poly_1 max, Score: 0.01038\n",
      "Feature: poly_2 min, Score: 0.01708\n",
      "Feature: poly_2 mean, Score: 0.01375\n",
      "Feature: poly_2 max, Score: 0.01275\n",
      "Feature: tonnetz min, Score: 0.00582\n",
      "Feature: tonnetz mean, Score: 0.00328\n",
      "Feature: tonnetz max, Score: 0.00548\n",
      "Feature: zero_crossing_rate min, Score: 0.00266\n",
      "Feature: zero_crossing_rate mean, Score: 0.01011\n",
      "Feature: zero_crossing_rate max, Score: 0.03332\n",
      "Feature: y std, Score: 0.02899\n",
      "Feature: chroma_stft std, Score: 0.00725\n",
      "Feature: chroma_cqt std, Score: 0.00679\n",
      "Feature: chroma_cens std, Score: 0.00621\n",
      "Feature: melspectogram std, Score: 0.02345\n",
      "Feature: mfcc std, Score: 0.01347\n",
      "Feature: rms std, Score: 0.08226\n",
      "Feature: spectral_centroid std, Score: 0.01565\n",
      "Feature: spec_bw std, Score: 0.01743\n",
      "Feature: spec_contrast std, Score: 0.00585\n",
      "Feature: flatness std, Score: 0.00410\n",
      "Feature: rolloff std, Score: 0.01155\n",
      "Feature: poly_0 std, Score: 0.06957\n",
      "Feature: poly_1 std, Score: 0.01463\n",
      "Feature: poly_2 std, Score: 0.00929\n",
      "Feature: tonnetz std, Score: 0.01359\n",
      "Feature: zero_crossing_rate std, Score: 0.01739\n"
     ]
    },
    {
     "data": {
      "image/png": "[encoded data removed]",
      "text/plain": [
       "<Figure size 432x288 with 1 Axes>"
      ]
     },
     "metadata": {
      "needs_background": "light"
     },
     "output_type": "display_data"
    }
   ],
   "source": [
    "importance = rf.feature_importances_\n",
    "for i,v in enumerate(importance):\n",
    "    print(f'Feature: {df1.columns[i]}, Score: {v:.5f}')\n",
    "pyplot.bar([x for x in range(len(importance))], importance)\n",
    "pyplot.show()"
   ]
  },
  {
   "cell_type": "markdown",
   "id": "north-glory",
   "metadata": {},
   "source": [
    "### Resampling the data using SMOTE"
   ]
  },
  {
   "cell_type": "markdown",
   "id": "bulgarian-episode",
   "metadata": {},
   "source": [
    "Trying to do oversampling using SMOTE to even the number of normal and abnormal on the target."
   ]
  },
  {
   "cell_type": "code",
   "execution_count": 84,
   "id": "referenced-premises",
   "metadata": {},
   "outputs": [],
   "source": [
    "sm = SMOTE(random_state=12)\n",
    "X_train_res, y_train_res = sm.fit_resample(X_train, y_train)"
   ]
  },
  {
   "cell_type": "markdown",
   "id": "continental-buffer",
   "metadata": {},
   "source": [
    "Then use again the `RandomForestClassifier` to train the model."
   ]
  },
  {
   "cell_type": "code",
   "execution_count": 86,
   "id": "floral-ethernet",
   "metadata": {},
   "outputs": [
    {
     "data": {
      "text/plain": [
       "0.9724106739032112"
      ]
     },
     "execution_count": 86,
     "metadata": {},
     "output_type": "execute_result"
    }
   ],
   "source": [
    "rf = RandomForestClassifier(n_estimators=40)\n",
    "rf.fit(X_train_res, y_train_res)\n",
    "rf.score(X_test, y_test)"
   ]
  },
  {
   "cell_type": "markdown",
   "id": "tutorial-class",
   "metadata": {},
   "source": [
    "Saving the model again using the `pickle.dump` function."
   ]
  },
  {
   "cell_type": "code",
   "execution_count": null,
   "id": "pregnant-contrast",
   "metadata": {},
   "outputs": [],
   "source": [
    "filename = 'models/slider_full_with_smote.sav'\n",
    "pickle.dump(rf, open(filename, 'wb'))"
   ]
  },
  {
   "cell_type": "markdown",
   "id": "monetary-button",
   "metadata": {},
   "source": [
    "Checking the predictions on the `X_test`."
   ]
  },
  {
   "cell_type": "code",
   "execution_count": 87,
   "id": "piano-connection",
   "metadata": {},
   "outputs": [],
   "source": [
    "y_test_pred = rf.predict(X_test)"
   ]
  },
  {
   "cell_type": "markdown",
   "id": "obvious-congress",
   "metadata": {},
   "source": [
    "Checking the True Positive and True Negative using `pd.crosstab` for the test dataset predictions."
   ]
  },
  {
   "cell_type": "code",
   "execution_count": 88,
   "id": "exceptional-procurement",
   "metadata": {},
   "outputs": [
    {
     "data": {
      "text/html": [
       "<div>\n",
       "<style scoped>\n",
       "    .dataframe tbody tr th:only-of-type {\n",
       "        vertical-align: middle;\n",
       "    }\n",
       "\n",
       "    .dataframe tbody tr th {\n",
       "        vertical-align: top;\n",
       "    }\n",
       "\n",
       "    .dataframe thead th {\n",
       "        text-align: right;\n",
       "    }\n",
       "</style>\n",
       "<table border=\"1\" class=\"dataframe\">\n",
       "  <thead>\n",
       "    <tr style=\"text-align: right;\">\n",
       "      <th>Actual</th>\n",
       "      <th>0</th>\n",
       "      <th>1</th>\n",
       "    </tr>\n",
       "    <tr>\n",
       "      <th>Predicted</th>\n",
       "      <th></th>\n",
       "      <th></th>\n",
       "    </tr>\n",
       "  </thead>\n",
       "  <tbody>\n",
       "    <tr>\n",
       "      <th>0</th>\n",
       "      <td>1693</td>\n",
       "      <td>38</td>\n",
       "    </tr>\n",
       "    <tr>\n",
       "      <th>1</th>\n",
       "      <td>23</td>\n",
       "      <td>457</td>\n",
       "    </tr>\n",
       "  </tbody>\n",
       "</table>\n",
       "</div>"
      ],
      "text/plain": [
       "Actual        0    1\n",
       "Predicted           \n",
       "0          1693   38\n",
       "1            23  457"
      ]
     },
     "execution_count": 88,
     "metadata": {},
     "output_type": "execute_result"
    }
   ],
   "source": [
    "pd.crosstab(pd.Series(y_test_pred, name = 'Predicted'),\n",
    "           pd.Series(y_test, name='Actual'))"
   ]
  },
  {
   "cell_type": "markdown",
   "id": "canadian-ivory",
   "metadata": {},
   "source": [
    "Printing the classification report on the test data set. "
   ]
  },
  {
   "cell_type": "code",
   "execution_count": 90,
   "id": "perfect-homeless",
   "metadata": {},
   "outputs": [
    {
     "name": "stdout",
     "output_type": "stream",
     "text": [
      "              precision    recall  f1-score   support\n",
      "\n",
      "           0       0.98      0.99      0.98      1716\n",
      "           1       0.95      0.92      0.94       495\n",
      "\n",
      "    accuracy                           0.97      2211\n",
      "   macro avg       0.97      0.95      0.96      2211\n",
      "weighted avg       0.97      0.97      0.97      2211\n",
      "\n"
     ]
    }
   ],
   "source": [
    "print(classification_report(y_test,y_test_pred))"
   ]
  },
  {
   "cell_type": "markdown",
   "id": "hidden-affiliation",
   "metadata": {},
   "source": [
    "Now let us check the model on the validation set."
   ]
  },
  {
   "cell_type": "code",
   "execution_count": 91,
   "id": "allied-metro",
   "metadata": {},
   "outputs": [],
   "source": [
    "validation_test = rf.predict(X_validate)"
   ]
  },
  {
   "cell_type": "markdown",
   "id": "sticky-advisory",
   "metadata": {},
   "source": [
    "Then also check the True Positive and True Negative for the validation set. "
   ]
  },
  {
   "cell_type": "code",
   "execution_count": 92,
   "id": "alone-cemetery",
   "metadata": {},
   "outputs": [
    {
     "data": {
      "text/html": [
       "<div>\n",
       "<style scoped>\n",
       "    .dataframe tbody tr th:only-of-type {\n",
       "        vertical-align: middle;\n",
       "    }\n",
       "\n",
       "    .dataframe tbody tr th {\n",
       "        vertical-align: top;\n",
       "    }\n",
       "\n",
       "    .dataframe thead th {\n",
       "        text-align: right;\n",
       "    }\n",
       "</style>\n",
       "<table border=\"1\" class=\"dataframe\">\n",
       "  <thead>\n",
       "    <tr style=\"text-align: right;\">\n",
       "      <th>Actual</th>\n",
       "      <th>0</th>\n",
       "      <th>1</th>\n",
       "    </tr>\n",
       "    <tr>\n",
       "      <th>Predicted</th>\n",
       "      <th></th>\n",
       "      <th></th>\n",
       "    </tr>\n",
       "  </thead>\n",
       "  <tbody>\n",
       "    <tr>\n",
       "      <th>0</th>\n",
       "      <td>957</td>\n",
       "      <td>32</td>\n",
       "    </tr>\n",
       "    <tr>\n",
       "      <th>1</th>\n",
       "      <td>10</td>\n",
       "      <td>230</td>\n",
       "    </tr>\n",
       "  </tbody>\n",
       "</table>\n",
       "</div>"
      ],
      "text/plain": [
       "Actual       0    1\n",
       "Predicted          \n",
       "0          957   32\n",
       "1           10  230"
      ]
     },
     "execution_count": 92,
     "metadata": {},
     "output_type": "execute_result"
    }
   ],
   "source": [
    "pd.crosstab(pd.Series(validation_test, name = 'Predicted'),\n",
    "           pd.Series(y_validate, name='Actual'))"
   ]
  },
  {
   "cell_type": "markdown",
   "id": "confidential-homeless",
   "metadata": {},
   "source": [
    "Then print the classification report for the validation set."
   ]
  },
  {
   "cell_type": "code",
   "execution_count": 93,
   "id": "turned-agriculture",
   "metadata": {},
   "outputs": [
    {
     "name": "stdout",
     "output_type": "stream",
     "text": [
      "              precision    recall  f1-score   support\n",
      "\n",
      "           0       0.97      0.99      0.98       967\n",
      "           1       0.96      0.88      0.92       262\n",
      "\n",
      "    accuracy                           0.97      1229\n",
      "   macro avg       0.96      0.93      0.95      1229\n",
      "weighted avg       0.97      0.97      0.97      1229\n",
      "\n"
     ]
    }
   ],
   "source": [
    "\n",
    "print(classification_report(y_validate,validation_test))"
   ]
  },
  {
   "cell_type": "markdown",
   "id": "round-battlefield",
   "metadata": {},
   "source": [
    "And now we have the mode for slider. :)"
   ]
  },
  {
   "cell_type": "code",
   "execution_count": null,
   "id": "active-liability",
   "metadata": {},
   "outputs": [],
   "source": []
  }
 ],
 "metadata": {
  "kernelspec": {
   "display_name": "Python 3",
   "language": "python",
   "name": "python3"
  },
  "language_info": {
   "codemirror_mode": {
    "name": "ipython",
    "version": 3
   },
   "file_extension": ".py",
   "mimetype": "text/x-python",
   "name": "python",
   "nbconvert_exporter": "python",
   "pygments_lexer": "ipython3",
   "version": "3.9.2"
  }
 },
 "nbformat": 4,
 "nbformat_minor": 5
}
